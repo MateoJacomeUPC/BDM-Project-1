{
  "nbformat": 4,
  "nbformat_minor": 0,
  "metadata": {
    "colab": {
      "name": "BDM_Project_Parquet.ipynb",
      "provenance": [],
      "mount_file_id": "1uJI233Mzqp3AWZ7PWtbhb4n6I2HSzYrZ",
      "authorship_tag": "ABX9TyN+Zli5HP1CQ1Zhu8YijcjB",
      "include_colab_link": true
    },
    "kernelspec": {
      "name": "python3",
      "display_name": "Python 3"
    },
    "language_info": {
      "name": "python"
    }
  },
  "cells": [
    {
      "cell_type": "markdown",
      "metadata": {
        "id": "view-in-github",
        "colab_type": "text"
      },
      "source": [
        "<a href=\"https://colab.research.google.com/github/MateoJacomeUPC/BDM/blob/master/BDM_Project_Parquet.ipynb\" target=\"_parent\"><img src=\"https://colab.research.google.com/assets/colab-badge.svg\" alt=\"Open In Colab\"/></a>"
      ]
    },
    {
      "cell_type": "code",
      "execution_count": 5,
      "metadata": {
        "id": "Y-AMADcYjqZ9"
      },
      "outputs": [],
      "source": [
        "import os\n",
        "from datetime import datetime\n",
        "import pandas as pd\n",
        "from pyarrow import fs\n",
        "import pyarrow.parquet as pq\n",
        "import pyarrow.dataset as ds"
      ]
    },
    {
      "cell_type": "markdown",
      "source": [
        "We are going to import the 11 .csv files of opendatabcn-income and write them to a single parquet table."
      ],
      "metadata": {
        "id": "LGxEmdiSon1_"
      }
    },
    {
      "cell_type": "code",
      "source": [
        "path = '/content/drive/MyDrive/BDM-Project/Data/opendatabcn-income'"
      ],
      "metadata": {
        "id": "o3odfFw9mgZ_"
      },
      "execution_count": 8,
      "outputs": []
    },
    {
      "cell_type": "markdown",
      "source": [
        "Reading Partitioned CSV Data into a single table with pyarrow\n",
        "- https://arrow.apache.org/cookbook/py/io.html#reading-partitioned-data\n",
        "- https://arrow.apache.org/docs/python/generated/pyarrow.dataset.dataset.html#pyarrow.dataset.dataset\n",
        "- https://arrow.apache.org/docs/python/generated/pyarrow.dataset.Dataset.html#pyarrow.dataset.Dataset.to_table"
      ],
      "metadata": {
        "id": "9KFHfmIImhZM"
      }
    },
    {
      "cell_type": "code",
      "source": [
        "def LoadPartitionedCSV(directory, folder):\n",
        "  \"\"\" \n",
        "  Input: a string for the data directory path,  \n",
        "  a string of the folder name that contains partitioned data in csv format.\n",
        "  Output: pyarrow table, list of loaded files\n",
        "  \"\"\"\n",
        "  path = directory + \"/\" + folder\n",
        "  dataset = ds.dataset(path, format=\"csv\")\n",
        "  table = dataset.to_table()\n",
        "  return table, dataset.files"
      ],
      "metadata": {
        "id": "9J_uqUeXo8Jr"
      },
      "execution_count": 20,
      "outputs": []
    },
    {
      "cell_type": "code",
      "source": [
        "directory = \"/content/drive/MyDrive/BDM-Project/Data\"\n",
        "table, files = LoadPartitionedCSV(directory, \"opendatabcn-income\")"
      ],
      "metadata": {
        "id": "NWdBKzc5pdxk"
      },
      "execution_count": 21,
      "outputs": []
    },
    {
      "cell_type": "code",
      "source": [
        "print (files)"
      ],
      "metadata": {
        "colab": {
          "base_uri": "https://localhost:8080/"
        },
        "id": "6dy5Dn7tp-cV",
        "outputId": "7a023ac1-1fe6-4887-e958-fbad17bb2c6f"
      },
      "execution_count": 22,
      "outputs": [
        {
          "output_type": "stream",
          "name": "stdout",
          "text": [
            "['/content/drive/MyDrive/BDM-Project/Data/opendatabcn-income/2007_Distribucio_territorial_renda_familiar.csv', '/content/drive/MyDrive/BDM-Project/Data/opendatabcn-income/2008_Distribucio_territorial_renda_familiar.csv', '/content/drive/MyDrive/BDM-Project/Data/opendatabcn-income/2009_Distribucio_territorial_renda_familiar.csv', '/content/drive/MyDrive/BDM-Project/Data/opendatabcn-income/2010_Distribucio_territorial_renda_familiar.csv', '/content/drive/MyDrive/BDM-Project/Data/opendatabcn-income/2011_Distribucio_territorial_renda_familiar.csv', '/content/drive/MyDrive/BDM-Project/Data/opendatabcn-income/2012_Distribucio_territorial_renda_familiar.csv', '/content/drive/MyDrive/BDM-Project/Data/opendatabcn-income/2013_Distribucio_territorial_renda_familiar.csv', '/content/drive/MyDrive/BDM-Project/Data/opendatabcn-income/2014_Distribucio_territorial_renda_familiar.csv', '/content/drive/MyDrive/BDM-Project/Data/opendatabcn-income/2015_Distribucio_territorial_renda_familiar.csv', '/content/drive/MyDrive/BDM-Project/Data/opendatabcn-income/2016_Distribucio_territorial_renda_familiar.csv', '/content/drive/MyDrive/BDM-Project/Data/opendatabcn-income/2017_Distribució_territorial_renda_familiar.csv']\n"
          ]
        }
      ]
    },
    {
      "cell_type": "code",
      "source": [
        "print (table)"
      ],
      "metadata": {
        "colab": {
          "base_uri": "https://localhost:8080/"
        },
        "id": "_p4m2ldqslNL",
        "outputId": "e5ef3532-9f2d-42f5-fb2a-0223ae2d417c"
      },
      "execution_count": 23,
      "outputs": [
        {
          "output_type": "stream",
          "name": "stdout",
          "text": [
            "pyarrow.Table\n",
            "Any: int64\n",
            "Codi_Districte: int64\n",
            "Nom_Districte: string\n",
            "Codi_Barri: int64\n",
            "Nom_Barri: string\n",
            "Població: int64\n",
            "Índex RFD Barcelona = 100: string\n",
            "----\n",
            "Any: [[2007,2007,2007,2007,2007,2007,2007,2007,2007,2007,...,2007,2007,2007,2007,2007,2007,2007,2007,2007,2007],[2008,2008,2008,2008,2008,2008,2008,2008,2008,2008,...,2008,2008,2008,2008,2008,2008,2008,2008,2008,2008],[2009,2009,2009,2009,2009,2009,2009,2009,2009,2009,...,2009,2009,2009,2009,2009,2009,2009,2009,2009,2009],[2010,2010,2010,2010,2010,2010,2010,2010,2010,2010,...,2010,2010,2010,2010,2010,2010,2010,2010,2010,2010],[2011,2011,2011,2011,2011,2011,2011,2011,2011,2011,...,2011,2011,2011,2011,2011,2011,2011,2011,2011,2011],[2012,2012,2012,2012,2012,2012,2012,2012,2012,2012,...,2012,2012,2012,2012,2012,2012,2012,2012,2012,2012],[2013,2013,2013,2013,2013,2013,2013,2013,2013,2013,...,2013,2013,2013,2013,2013,2013,2013,2013,2013,2013],[2014,2014,2014,2014,2014,2014,2014,2014,2014,2014,...,2014,2014,2014,2014,2014,2014,2014,2014,2014,2014],[2015,2015,2015,2015,2015,2015,2015,2015,2015,2015,...,2015,2015,2015,2015,2015,2015,2015,2015,2015,2015],[2016,2016,2016,2016,2016,2016,2016,2016,2016,2016,...,2016,2016,2016,2016,2016,2016,2016,2016,2016,2016],[2017,2017,2017,2017,2017,2017,2017,2017,2017,2017,...,2017,2017,2017,2017,2017,2017,2017,2017,2017,2017]]\n",
            "Codi_Districte: [[1,1,1,1,2,2,2,2,2,2,...,10,10,10,10,10,10,10,10,10,99],[1,1,1,1,2,2,2,2,2,2,...,10,10,10,10,10,10,10,10,10,10],[1,1,1,1,2,2,2,2,2,2,...,10,10,10,10,10,10,10,10,10,99],[1,1,1,1,2,2,2,2,2,2,...,10,10,10,10,10,10,10,10,10,99],[1,1,1,1,2,2,2,2,2,2,...,10,10,10,10,10,10,10,10,10,99],[1,1,1,1,2,2,2,2,2,2,...,10,10,10,10,10,10,10,10,10,99],[1,1,1,1,2,2,2,2,2,2,...,10,10,10,10,10,10,10,10,10,99],[1,1,1,1,2,2,2,2,2,2,...,10,10,10,10,10,10,10,10,10,99],[1,1,1,1,2,2,2,2,2,2,...,10,10,10,10,10,10,10,10,10,99],[1,1,1,1,2,2,2,2,2,2,...,10,10,10,10,10,10,10,10,10,10],[1,1,1,1,2,2,2,2,2,2,...,10,10,10,10,10,10,10,10,10,10]]\n",
            "Nom_Districte: [[\"Ciutat Vella\",\"Ciutat Vella\",\"Ciutat Vella\",\"Ciutat Vella\",\"Eixample\",\"Eixample\",\"Eixample\",\"Eixample\",\"Eixample\",\"Eixample\",...,\"Sant Martí\",\"Sant Martí\",\"Sant Martí\",\"Sant Martí\",\"Sant Martí\",\"Sant Martí\",\"Sant Martí\",\"Sant Martí\",\"Sant Martí\",\"No consta\"],[\"Ciutat Vella\",\"Ciutat Vella\",\"Ciutat Vella\",\"Ciutat Vella\",\"Eixample\",\"Eixample\",\"Eixample\",\"Eixample\",\"Eixample\",\"Eixample\",...,\"Sant Martí\",\"Sant Martí\",\"Sant Martí\",\"Sant Martí\",\"Sant Martí\",\"Sant Martí\",\"Sant Martí\",\"Sant Martí\",\"Sant Martí\",\"Sant Martí\"],[\"Ciutat Vella\",\"Ciutat Vella\",\"Ciutat Vella\",\"Ciutat Vella\",\"Eixample\",\"Eixample\",\"Eixample\",\"Eixample\",\"Eixample\",\"Eixample\",...,\"Sant Martí\",\"Sant Martí\",\"Sant Martí\",\"Sant Martí\",\"Sant Martí\",\"Sant Martí\",\"Sant Martí\",\"Sant Martí\",\"Sant Martí\",\"No consta\"],[\"Ciutat Vella\",\"Ciutat Vella\",\"Ciutat Vella\",\"Ciutat Vella\",\"Eixample\",\"Eixample\",\"Eixample\",\"Eixample\",\"Eixample\",\"Eixample\",...,\"Sant Martí\",\"Sant Martí\",\"Sant Martí\",\"Sant Martí\",\"Sant Martí\",\"Sant Martí\",\"Sant Martí\",\"Sant Martí\",\"Sant Martí\",\"No consta\"],[\"Ciutat Vella\",\"Ciutat Vella\",\"Ciutat Vella\",\"Ciutat Vella\",\"Eixample\",\"Eixample\",\"Eixample\",\"Eixample\",\"Eixample\",\"Eixample\",...,\"Sant Martí\",\"Sant Martí\",\"Sant Martí\",\"Sant Martí\",\"Sant Martí\",\"Sant Martí\",\"Sant Martí\",\"Sant Martí\",\"Sant Martí\",\"No consta\"],[\"Ciutat Vella\",\"Ciutat Vella\",\"Ciutat Vella\",\"Ciutat Vella\",\"Eixample\",\"Eixample\",\"Eixample\",\"Eixample\",\"Eixample\",\"Eixample\",...,\"Sant Martí\",\"Sant Martí\",\"Sant Martí\",\"Sant Martí\",\"Sant Martí\",\"Sant Martí\",\"Sant Martí\",\"Sant Martí\",\"Sant Martí\",\"No consta\"],[\"Ciutat Vella\",\"Ciutat Vella\",\"Ciutat Vella\",\"Ciutat Vella\",\"Eixample\",\"Eixample\",\"Eixample\",\"Eixample\",\"Eixample\",\"Eixample\",...,\"Sant Martí\",\"Sant Martí\",\"Sant Martí\",\"Sant Martí\",\"Sant Martí\",\"Sant Martí\",\"Sant Martí\",\"Sant Martí\",\"Sant Martí\",\"No consta\"],[\"Ciutat Vella\",\"Ciutat Vella\",\"Ciutat Vella\",\"Ciutat Vella\",\"Eixample\",\"Eixample\",\"Eixample\",\"Eixample\",\"Eixample\",\"Eixample\",...,\"Sant Martí\",\"Sant Martí\",\"Sant Martí\",\"Sant Martí\",\"Sant Martí\",\"Sant Martí\",\"Sant Martí\",\"Sant Martí\",\"Sant Martí\",\"No consta\"],[\"Ciutat Vella\",\"Ciutat Vella\",\"Ciutat Vella\",\"Ciutat Vella\",\"Eixample\",\"Eixample\",\"Eixample\",\"Eixample\",\"Eixample\",\"Eixample\",...,\"Sant Martí\",\"Sant Martí\",\"Sant Martí\",\"Sant Martí\",\"Sant Martí\",\"Sant Martí\",\"Sant Martí\",\"Sant Martí\",\"Sant Martí\",\"No consta\"],[\"Ciutat Vella\",\"Ciutat Vella\",\"Ciutat Vella\",\"Ciutat Vella\",\"Eixample\",\"Eixample\",\"Eixample\",\"Eixample\",\"Eixample\",\"Eixample\",...,\"Sant Martí\",\"Sant Martí\",\"Sant Martí\",\"Sant Martí\",\"Sant Martí\",\"Sant Martí\",\"Sant Martí\",\"Sant Martí\",\"Sant Martí\",\"Sant Martí\"],[\"Ciutat Vella\",\"Ciutat Vella\",\"Ciutat Vella\",\"Ciutat Vella\",\"Eixample\",\"Eixample\",\"Eixample\",\"Eixample\",\"Eixample\",\"Eixample\",...,\"Sant Martí\",\"Sant Martí\",\"Sant Martí\",\"Sant Martí\",\"Sant Martí\",\"Sant Martí\",\"Sant Martí\",\"Sant Martí\",\"Sant Martí\",\"Sant Martí\"]]\n",
            "Codi_Barri: [[1,2,3,4,5,6,7,8,9,10,...,65,66,67,68,69,70,71,72,73,99],[1,2,3,4,5,6,7,8,9,10,...,64,65,66,67,68,69,70,71,72,73],[1,2,3,4,5,6,7,8,9,10,...,65,66,67,68,69,70,71,72,73,99],[1,2,3,4,5,6,7,8,9,10,...,65,66,67,68,69,70,71,72,73,99],[1,2,3,4,5,6,7,8,9,10,...,65,66,67,68,69,70,71,72,73,99],[1,2,3,4,5,6,7,8,9,10,...,65,66,67,68,69,70,71,72,73,99],[1,2,3,4,5,6,7,8,9,10,...,65,66,67,68,69,70,71,72,73,99],[1,2,3,4,5,6,7,8,9,10,...,65,66,67,68,69,70,71,72,73,99],[1,2,3,4,5,6,7,8,9,10,...,65,66,67,68,69,70,71,72,73,99],[1,2,3,4,5,6,7,8,9,10,...,64,65,66,67,68,69,70,71,72,73],[1,2,3,4,5,6,7,8,9,10,...,64,65,66,67,68,69,70,71,72,73]]\n",
            "Nom_Barri: [[\"el Raval\",\"el Barri Gòtic\",\"la Barceloneta\",\"Sant Pere, Santa Caterina i la Ribera\",\"el Fort Pienc\",\"la Sagrada Família\",\"la Dreta de l'Eixample\",\"l'Antiga Esquerra de l'Eixample\",\"la Nova Esquerra de l'Eixample\",\"Sant Antoni\",...,\"el Clot\",\"el Parc i la Llacuna del Poblenou\",\"la Vila Olímpica del Poblenou\",\"el Poblenou\",\"Diagonal Mar i el Front Marítim del Poblenou\",\"el Besòs i el Maresme\",\"Provençals del Poblenou\",\"Sant Martí de Provençals\",\"la Verneda i la Pau\",\"No consta\"],[\"el Raval\",\"el Barri Gòtic\",\"la Barceloneta\",\"Sant Pere, Santa Caterina i la Ribera\",\"el Fort Pienc\",\"la Sagrada Família\",\"la Dreta de l'Eixample\",\"l'Antiga Esquerra de l'Eixample\",\"la Nova Esquerra de l'Eixample\",\"Sant Antoni\",...,\"el Camp de l'Arpa del Clot\",\"el Clot\",\"el Parc i la Llacuna del Poblenou\",\"la Vila Olímpica del Poblenou\",\"el Poblenou\",\"Diagonal Mar i el Front Marítim del Poblenou\",\"el Besòs i el Maresme\",\"Provençals del Poblenou\",\"Sant Martí de Provençals\",\"la Verneda i la Pau\"],[\"el Raval\",\"el Barri Gòtic\",\"la Barceloneta\",\"Sant Pere, Santa Caterina i la Ribera\",\"el Fort Pienc\",\"la Sagrada Família\",\"la Dreta de l'Eixample\",\"l'Antiga Esquerra de l'Eixample\",\"la Nova Esquerra de l'Eixample\",\"Sant Antoni\",...,\"el Clot\",\"el Parc i la Llacuna del Poblenou\",\"la Vila Olímpica del Poblenou\",\"el Poblenou\",\"Diagonal Mar i el Front Marítim del Poblenou\",\"el Besòs i el Maresme\",\"Provençals del Poblenou\",\"Sant Martí de Provençals\",\"la Verneda i la Pau\",\"No consta\"],[\"el Raval\",\"el Barri Gòtic\",\"la Barceloneta\",\"Sant Pere, Santa Caterina i la Ribera\",\"el Fort Pienc\",\"la Sagrada Família\",\"la Dreta de l'Eixample\",\"l'Antiga Esquerra de l'Eixample\",\"la Nova Esquerra de l'Eixample\",\"Sant Antoni\",...,\"el Clot\",\"el Parc i la Llacuna del Poblenou\",\"la Vila Olímpica del Poblenou\",\"el Poblenou\",\"Diagonal Mar i el Front Marítim del Poblenou\",\"el Besòs i el Maresme\",\"Provençals del Poblenou\",\"Sant Martí de Provençals\",\"la Verneda i la Pau\",\"No consta\"],[\"el Raval\",\"el Barri Gòtic\",\"la Barceloneta\",\"Sant Pere, Santa Caterina i la Ribera\",\"el Fort Pienc\",\"la Sagrada Família\",\"la Dreta de l'Eixample\",\"l'Antiga Esquerra de l'Eixample\",\"la Nova Esquerra de l'Eixample\",\"Sant Antoni\",...,\"el Clot\",\"el Parc i la Llacuna del Poblenou\",\"la Vila Olímpica del Poblenou\",\"el Poblenou\",\"Diagonal Mar i el Front Marítim del Poblenou\",\"el Besòs i el Maresme\",\"Provençals del Poblenou\",\"Sant Martí de Provençals\",\"la Verneda i la Pau\",\"No consta\"],[\"el Raval\",\"el Barri Gòtic\",\"la Barceloneta\",\"Sant Pere, Santa Caterina i la Ribera\",\"el Fort Pienc\",\"la Sagrada Família\",\"la Dreta de l'Eixample\",\"l'Antiga Esquerra de l'Eixample\",\"la Nova Esquerra de l'Eixample\",\"Sant Antoni\",...,\"el Clot\",\"el Parc i la Llacuna del Poblenou\",\"la Vila Olímpica del Poblenou\",\"el Poblenou\",\"Diagonal Mar i el Front Marítim del Poblenou\",\"el Besòs i el Maresme\",\"Provençals del Poblenou\",\"Sant Martí de Provençals\",\"la Verneda i la Pau\",\"No consta\"],[\"el Raval\",\"el Barri Gòtic\",\"la Barceloneta\",\"Sant Pere, Santa Caterina i la Ribera\",\"el Fort Pienc\",\"la Sagrada Família\",\"la Dreta de l'Eixample\",\"l'Antiga Esquerra de l'Eixample\",\"la Nova Esquerra de l'Eixample\",\"Sant Antoni\",...,\"el Clot\",\"el Parc i la Llacuna del Poblenou\",\"la Vila Olímpica del Poblenou\",\"el Poblenou\",\"Diagonal Mar i el Front Marítim del Poblenou\",\"el Besòs i el Maresme\",\"Provençals del Poblenou\",\"Sant Martí de Provençals\",\"la Verneda i la Pau\",\"No consta\"],[\"el Raval\",\"el Barri Gòtic\",\"la Barceloneta\",\"Sant Pere, Santa Caterina i la Ribera\",\"el Fort Pienc\",\"la Sagrada Família\",\"la Dreta de l'Eixample\",\"l'Antiga Esquerra de l'Eixample\",\"la Nova Esquerra de l'Eixample\",\"Sant Antoni\",...,\"el Clot\",\"el Parc i la Llacuna del Poblenou\",\"la Vila Olímpica del Poblenou\",\"el Poblenou\",\"Diagonal Mar i el Front Marítim del Poblenou\",\"el Besòs i el Maresme\",\"Provençals del Poblenou\",\"Sant Martí de Provençals\",\"la Verneda i la Pau\",\"No consta\"],[\"el Raval\",\"el Barri Gòtic\",\"la Barceloneta\",\"Sant Pere, Santa Caterina i la Ribera\",\"el Fort Pienc\",\"la Sagrada Família\",\"la Dreta de l'Eixample\",\"l'Antiga Esquerra de l'Eixample\",\"la Nova Esquerra de l'Eixample\",\"Sant Antoni\",...,\"el Clot\",\"el Parc i la Llacuna del Poblenou\",\"la Vila Olímpica del Poblenou\",\"el Poblenou\",\"Diagonal Mar i el Front Marítim del Poblenou\",\"el Besòs i el Maresme\",\"Provençals del Poblenou\",\"Sant Martí de Provençals\",\"la Verneda i la Pau\",\"No consta\"],[\"el Raval\",\"el Barri Gòtic\",\"la Barceloneta\",\"Sant Pere, Santa Caterina i la Ribera\",\"el Fort Pienc\",\"la Sagrada Família\",\"la Dreta de l'Eixample\",\"l'Antiga Esquerra de l'Eixample\",\"la Nova Esquerra de l'Eixample\",\"Sant Antoni\",...,\"el Camp de l'Arpa del Clot\",\"el Clot\",\"el Parc i la Llacuna del Poblenou\",\"la Vila Olímpica del Poblenou\",\"el Poblenou\",\"Diagonal Mar i el Front Marítim del Poblenou\",\"el Besòs i el Maresme\",\"Provençals del Poblenou\",\"Sant Martí de Provençals\",\"la Verneda i la Pau\"],[\"el Raval\",\"el Barri Gòtic\",\"la Barceloneta\",\"Sant Pere, Santa Caterina i la Ribera\",\"el Fort Pienc\",\"la Sagrada Família\",\"la Dreta de l'Eixample\",\"l'Antiga Esquerra de l'Eixample\",\"la Nova Esquerra de l'Eixample\",\"Sant Antoni\",...,\"el Camp de l'Arpa del Clot\",\"el Clot\",\"el Parc i la Llacuna del Poblenou\",\"la Vila Olímpica del Poblenou\",\"el Poblenou\",\"Diagonal Mar i el Front Marítim del Poblenou\",\"el Besòs i el Maresme\",\"Provençals del Poblenou\",\"Sant Martí de Provençals\",\"la Verneda i la Pau\"]]\n",
            "Població: [[46595,27946,15921,22572,31521,52185,42504,41413,58146,37988,...,26796,13104,8783,30181,9775,22652,18731,26261,29452,879],[47431,25556,16000,22649,32167,52593,42793,41654,58412,38247,...,38738,27121,13175,8935,30624,9921,23557,18556,26199,29603],[49315,21045,16351,23136,33202,52890,43609,42183,58559,38742,...,27562,13457,9202,31433,11132,24527,19542,26457,29626,499],[48767,18720,16261,23101,32900,52424,43473,42076,58247,38414,...,27505,13728,9275,31961,11730,24403,19636,26281,29385,251],[48485,17257,15674,22632,32348,52000,43206,41653,57659,38130,...,27114,13772,9191,32208,12289,23998,19732,26178,29131,70],[49844,16754,15745,22873,32225,52007,43436,41887,57760,38277,...,27201,14147,9322,32816,12701,23732,19952,26152,29201,145],[49225,16327,15571,22821,31754,51725,43439,41843,57828,38299,...,27154,14513,9367,33176,13125,23202,20158,26040,29103,205],[48471,15911,15181,22674,31785,51562,43749,41975,57863,38369,...,27082,14814,9391,33425,13351,23191,20184,26018,28903,1],[47617,15269,15036,22305,31645,51347,43344,41696,57711,38248,...,27013,14764,9261,33579,13352,23026,20244,26005,28678,1],[47274,15729,15068,22380,31693,51349,43715,41872,57676,38182,...,38252,26928,14861,9346,33621,13455,22609,20516,26031,28673],[47986,16240,15101,22923,32048,51651,44246,42512,58315,38412,...,38371,27089,15204,9404,33931,13710,22893,20649,26187,28725]]\n",
            "Índex RFD Barcelona = 100: [[\"64.7\",\"86.5\",\"66.7\",\"80.2\",\"107.9\",\"101.8\",\"137.6\",\"126.5\",\"116.9\",\"103.8\",...,\"88.5\",\"103.2\",\"132.8\",\"94.5\",\"101.1\",\"61.7\",\"85.7\",\"81.5\",\"74.8\",\"-\"],[\"62.6\",\"80.8\",\"65.9\",\"81.8\",\"108.3\",\"100.7\",\"138.0\",\"122.8\",\"116.6\",\"102.9\",...,\"92.4\",\"89.0\",\"106.2\",\"133.3\",\"93.6\",\"104.4\",\"61.1\",\"85.1\",\"80.3\",\"74.3\"],[\"62.0\",\"94.3\",\"64.4\",\"88.8\",\"109.1\",\"98.4\",\"143.6\",\"122.6\",\"114.3\",\"99.5\",...,\"85.5\",\"103.1\",\"141.1\",\"86.5\",\"107.9\",\"53.7\",\"82.4\",\"76.6\",\"67.8\",\"-\"],[\"62.0\",\"92.3\",\"72.6\",\"91.2\",\"108.5\",\"97.3\",\"144.1\",\"125.9\",\"115.2\",\"95.4\",...,\"82.8\",\"97.3\",\"134.9\",\"86.3\",\"106.8\",\"53.6\",\"77.1\",\"74.9\",\"68.4\",\"-\"],[\"65.0\",\"98.8\",\"73.1\",\"86.1\",\"97.9\",\"96.1\",\"151.7\",\"121.3\",\"107.7\",\"95.9\",...,\"80.0\",\"90.9\",\"146.0\",\"89.2\",\"122.3\",\"52.9\",\"84.3\",\"65.0\",\"61.8\",\"-\"],[\"65.4\",\"99.7\",\"69.0\",\"89.3\",\"98.0\",\"95.3\",\"150.1\",\"119.2\",\"105.9\",\"94.8\",...,\"78.2\",\"88.9\",\"146.6\",\"89.8\",\"127.4\",\"52.4\",\"80.4\",\"63.5\",\"56.8\",\"-\"],[\"60.3\",\"103.6\",\"82.1\",\"91.2\",\"99.0\",\"97.5\",\"165.7\",\"125.1\",\"108.6\",\"102.5\",...,\"76.9\",\"93.7\",\"151.6\",\"89.6\",\"150.1\",\"53.0\",\"76.1\",\"66.2\",\"56.1\",\"-\"],[\"65.9\",\"98.5\",\"84.5\",\"92.5\",\"104.5\",\"92.4\",\"165.3\",\"127.8\",\"109.1\",\"97.8\",...,\"81.0\",\"88.6\",\"150.8\",\"95.4\",\"168.8\",\"58.9\",\"91.7\",\"67.6\",\"57.2\",\"-\"],[\"75.8\",\"108.5\",\"76.6\",\"96.4\",\"104.8\",\"95.8\",\"165.8\",\"128.9\",\"103.8\",\"98.6\",...,\"84.7\",\"96.8\",\"150.2\",\"95.6\",\"162.5\",\"54.4\",\"102.8\",\"68.3\",\"57.5\",\"-\"],[\"74.6\",\"110.5\",\"84.8\",\"97.8\",\"105.0\",\"95.9\",\"170.0\",\"139.2\",\"105.3\",\"104.0\",...,\"82.7\",\"83.7\",\"92.1\",\"162.0\",\"98.6\",\"152.6\",\"54.7\",\"98.7\",\"68.7\",\"58.8\"],[\"71.2\",\"106.1\",\"79.6\",\"99.4\",\"106.5\",\"101.8\",\"175.9\",\"137.2\",\"110.2\",\"104.2\",...,\"81.7\",\"83.6\",\"100.4\",\"164.2\",\"99.9\",\"150.1\",\"60.4\",\"102.3\",\"67.4\",\"57.0\"]]\n"
          ]
        }
      ]
    }
  ]
}