{
  "nbformat": 4,
  "nbformat_minor": 0,
  "metadata": {
    "colab": {
      "name": "BDM_Project_Parquet.ipynb",
      "provenance": [],
      "collapsed_sections": [],
      "mount_file_id": "1uJI233Mzqp3AWZ7PWtbhb4n6I2HSzYrZ",
      "authorship_tag": "ABX9TyPkP4rm4DNfNEgpKWUzI/Dh",
      "include_colab_link": true
    },
    "kernelspec": {
      "name": "python3",
      "display_name": "Python 3"
    },
    "language_info": {
      "name": "python"
    }
  },
  "cells": [
    {
      "cell_type": "markdown",
      "metadata": {
        "id": "view-in-github",
        "colab_type": "text"
      },
      "source": [
        "<a href=\"https://colab.research.google.com/github/MateoJacomeUPC/BDM/blob/master/BDM_Project_Parquet.ipynb\" target=\"_parent\"><img src=\"https://colab.research.google.com/assets/colab-badge.svg\" alt=\"Open In Colab\"/></a>"
      ]
    },
    {
      "cell_type": "markdown",
      "source": [
        "Note: this code will need to be updated to work with Hadoop instead of Google Drive.\n",
        "\n",
        "Read a partitioned dataset from filesystem\n",
        "- https://arrow.apache.org/docs/python/filesystems.html#filesystem\n",
        "\n",
        "Example:\n",
        "```\n",
        "import pyarrow.dataset as ds\n",
        "ds.dataset(\"data/\", filesystem=fs)\n",
        "```\n",
        "\n"
      ],
      "metadata": {
        "id": "bpqRSnqsEKFS"
      }
    },
    {
      "cell_type": "code",
      "source": [
        "pip install \"dask[complete]\""
      ],
      "metadata": {
        "colab": {
          "base_uri": "https://localhost:8080/"
        },
        "id": "eFdooMMKN2xi",
        "outputId": "4f91f018-ef05-4262-9feb-c54f415520f4"
      },
      "execution_count": 2,
      "outputs": [
        {
          "output_type": "stream",
          "name": "stdout",
          "text": [
            "Requirement already satisfied: dask[complete] in /usr/local/lib/python3.7/dist-packages (2.12.0)\n",
            "Requirement already satisfied: distributed>=2.0 in /usr/local/lib/python3.7/dist-packages (from dask[complete]) (2.30.1)\n",
            "Requirement already satisfied: cloudpickle>=0.2.1 in /usr/local/lib/python3.7/dist-packages (from dask[complete]) (2.0.0)\n",
            "Requirement already satisfied: fsspec>=0.6.0 in /usr/local/lib/python3.7/dist-packages (from dask[complete]) (2022.2.0)\n",
            "Requirement already satisfied: toolz>=0.7.3 in /usr/local/lib/python3.7/dist-packages (from dask[complete]) (0.11.2)\n",
            "Requirement already satisfied: bokeh>=1.0.0 in /usr/local/lib/python3.7/dist-packages (from dask[complete]) (2.3.3)\n",
            "Requirement already satisfied: PyYaml in /usr/local/lib/python3.7/dist-packages (from dask[complete]) (3.13)\n",
            "Requirement already satisfied: numpy>=1.13.0 in /usr/local/lib/python3.7/dist-packages (from dask[complete]) (1.21.5)\n",
            "Requirement already satisfied: pandas>=0.23.0 in /usr/local/lib/python3.7/dist-packages (from dask[complete]) (1.3.5)\n",
            "Requirement already satisfied: partd>=0.3.10 in /usr/local/lib/python3.7/dist-packages (from dask[complete]) (1.2.0)\n",
            "Requirement already satisfied: pillow>=7.1.0 in /usr/local/lib/python3.7/dist-packages (from bokeh>=1.0.0->dask[complete]) (7.1.2)\n",
            "Requirement already satisfied: python-dateutil>=2.1 in /usr/local/lib/python3.7/dist-packages (from bokeh>=1.0.0->dask[complete]) (2.8.2)\n",
            "Requirement already satisfied: Jinja2>=2.9 in /usr/local/lib/python3.7/dist-packages (from bokeh>=1.0.0->dask[complete]) (2.11.3)\n",
            "Requirement already satisfied: typing-extensions>=3.7.4 in /usr/local/lib/python3.7/dist-packages (from bokeh>=1.0.0->dask[complete]) (3.10.0.2)\n",
            "Requirement already satisfied: tornado>=5.1 in /usr/local/lib/python3.7/dist-packages (from bokeh>=1.0.0->dask[complete]) (5.1.1)\n",
            "Requirement already satisfied: packaging>=16.8 in /usr/local/lib/python3.7/dist-packages (from bokeh>=1.0.0->dask[complete]) (21.3)\n",
            "Requirement already satisfied: zict>=0.1.3 in /usr/local/lib/python3.7/dist-packages (from distributed>=2.0->dask[complete]) (2.1.0)\n",
            "Requirement already satisfied: msgpack>=0.6.0 in /usr/local/lib/python3.7/dist-packages (from distributed>=2.0->dask[complete]) (1.0.3)\n",
            "Requirement already satisfied: sortedcontainers!=2.0.0,!=2.0.1 in /usr/local/lib/python3.7/dist-packages (from distributed>=2.0->dask[complete]) (2.4.0)\n",
            "Requirement already satisfied: tblib>=1.6.0 in /usr/local/lib/python3.7/dist-packages (from distributed>=2.0->dask[complete]) (1.7.0)\n",
            "Requirement already satisfied: setuptools in /usr/local/lib/python3.7/dist-packages (from distributed>=2.0->dask[complete]) (57.4.0)\n",
            "Requirement already satisfied: click>=6.6 in /usr/local/lib/python3.7/dist-packages (from distributed>=2.0->dask[complete]) (7.1.2)\n",
            "Requirement already satisfied: psutil>=5.0 in /usr/local/lib/python3.7/dist-packages (from distributed>=2.0->dask[complete]) (5.4.8)\n",
            "Requirement already satisfied: MarkupSafe>=0.23 in /usr/local/lib/python3.7/dist-packages (from Jinja2>=2.9->bokeh>=1.0.0->dask[complete]) (2.0.1)\n",
            "Requirement already satisfied: pyparsing!=3.0.5,>=2.0.2 in /usr/local/lib/python3.7/dist-packages (from packaging>=16.8->bokeh>=1.0.0->dask[complete]) (3.0.7)\n",
            "Requirement already satisfied: pytz>=2017.3 in /usr/local/lib/python3.7/dist-packages (from pandas>=0.23.0->dask[complete]) (2018.9)\n",
            "Requirement already satisfied: locket in /usr/local/lib/python3.7/dist-packages (from partd>=0.3.10->dask[complete]) (0.2.1)\n",
            "Requirement already satisfied: six>=1.5 in /usr/local/lib/python3.7/dist-packages (from python-dateutil>=2.1->bokeh>=1.0.0->dask[complete]) (1.15.0)\n",
            "Requirement already satisfied: heapdict in /usr/local/lib/python3.7/dist-packages (from zict>=0.1.3->distributed>=2.0->dask[complete]) (1.0.1)\n"
          ]
        }
      ]
    },
    {
      "cell_type": "code",
      "execution_count": 3,
      "metadata": {
        "id": "Y-AMADcYjqZ9"
      },
      "outputs": [],
      "source": [
        "import os\n",
        "from datetime import datetime\n",
        "import pandas as pd\n",
        "import dask.dataframe as dd\n",
        "import numpy as np\n",
        "from pyarrow import fs\n",
        "import pyarrow.parquet as pq\n",
        "import pyarrow.dataset as ds\n",
        "import pyarrow as pa"
      ]
    },
    {
      "cell_type": "markdown",
      "source": [
        "We are going to import the 11 .csv files of opendatabcn-income and write them to a single parquet table.\n",
        "\n",
        "Reading Partitioned CSV Data into a single table with pyarrow\n",
        "- https://arrow.apache.org/cookbook/py/io.html#reading-partitioned-data\n",
        "- https://arrow.apache.org/docs/python/generated/pyarrow.dataset.dataset.html#pyarrow.dataset.dataset\n",
        "- https://arrow.apache.org/docs/python/generated/pyarrow.dataset.Dataset.html#pyarrow.dataset.Dataset.to_table"
      ],
      "metadata": {
        "id": "9KFHfmIImhZM"
      }
    },
    {
      "cell_type": "code",
      "source": [
        "# returns table for processing to parquet for persistent storage\n",
        "# returns file list so that files can be deleted after processing\n",
        "def LoadPartitionedCSV(directory, folder, schema=None):\n",
        "  \"\"\" \n",
        "  Input: a string for the data directory path,  \n",
        "  a string of the folder name that contains partitioned data in csv format,\n",
        "  a schema for the data if known, otherwise it will be inferred.\n",
        "  Output: pyarrow table, list of loaded files\n",
        "  \"\"\"\n",
        "  path = directory + \"/\" + folder\n",
        "  # loading all csv files in path to a pyarrow dataset\n",
        "  dataset = ds.dataset(path, schema=schema, format=\"csv\")\n",
        "  # loading pyarrow datset to a single pyarrow table\n",
        "  table = dataset.to_table()\n",
        "  return table, dataset.files"
      ],
      "metadata": {
        "id": "9J_uqUeXo8Jr"
      },
      "execution_count": 4,
      "outputs": []
    },
    {
      "cell_type": "markdown",
      "source": [
        "We want to define the schema to make sure datatypes are efficient.\n",
        "- https://arrow.apache.org/cookbook/py/schema.html#setting-the-schema-of-a-table\n",
        "- https://arrow.apache.org/docs/python/api/datatypes.html"
      ],
      "metadata": {
        "id": "fPaMkZZjyBGE"
      }
    },
    {
      "cell_type": "code",
      "source": [
        "pa_schema = pa.schema([\n",
        "    (\"Any\", pa.uint16()),\n",
        "    (\"Codi_Districte\", pa.uint8()),\n",
        "    (\"Nom_Districte\", pa.string()),\n",
        "    (\"Codi_Barri\", pa.uint8()),\n",
        "    (\"Nom_Barri\", pa.string()),\n",
        "    (\"Població\", pa.uint32()),\n",
        "    (\"Índex RFD Barcelona = 100\", pa.float64()) # should be float but there is messy data\n",
        "])"
      ],
      "metadata": {
        "id": "_zVF8URsvXp_"
      },
      "execution_count": 5,
      "outputs": []
    },
    {
      "cell_type": "markdown",
      "source": [
        "The import fails because there is a character \"-\" in the .csv which is a string when it should be a float."
      ],
      "metadata": {
        "id": "UhkePE4a8Jcd"
      }
    },
    {
      "cell_type": "code",
      "source": [
        "directory = \"/content/drive/MyDrive/BDM-Project/Data\"\n",
        "#table, files = LoadPartitionedCSV(directory, \"opendatabcn-income\", pa_schema)"
      ],
      "metadata": {
        "id": "NWdBKzc5pdxk"
      },
      "execution_count": 6,
      "outputs": []
    },
    {
      "cell_type": "markdown",
      "source": [
        "In the schema, we will define the index to be a string instead of a float so that the import succeeds."
      ],
      "metadata": {
        "id": "PrPEpyAwIiH_"
      }
    },
    {
      "cell_type": "code",
      "source": [
        "pa_schema = pa.schema([\n",
        "    (\"Any\", pa.uint16()),\n",
        "    (\"Codi_Districte\", pa.uint8()),\n",
        "    (\"Nom_Districte\", pa.string()),\n",
        "    (\"Codi_Barri\", pa.uint8()),\n",
        "    (\"Nom_Barri\", pa.string()),\n",
        "    (\"Població\", pa.uint32()),\n",
        "    (\"Índex RFD Barcelona = 100\", pa.string()) # should be float but there is messy data\n",
        "])"
      ],
      "metadata": {
        "id": "o_MkI5G175gS"
      },
      "execution_count": 7,
      "outputs": []
    },
    {
      "cell_type": "code",
      "source": [
        "directory = \"/content/drive/MyDrive/BDM-Project/Data\"\n",
        "table, files = LoadPartitionedCSV(directory, \"opendatabcn-income\", pa_schema)"
      ],
      "metadata": {
        "id": "CKP79eru79M6"
      },
      "execution_count": 8,
      "outputs": []
    },
    {
      "cell_type": "code",
      "source": [
        "print (files)"
      ],
      "metadata": {
        "colab": {
          "base_uri": "https://localhost:8080/"
        },
        "id": "6dy5Dn7tp-cV",
        "outputId": "8e810815-9e28-47b8-9594-907802c83d00"
      },
      "execution_count": 9,
      "outputs": [
        {
          "output_type": "stream",
          "name": "stdout",
          "text": [
            "['/content/drive/MyDrive/BDM-Project/Data/opendatabcn-income/2007_Distribucio_territorial_renda_familiar.csv', '/content/drive/MyDrive/BDM-Project/Data/opendatabcn-income/2008_Distribucio_territorial_renda_familiar.csv', '/content/drive/MyDrive/BDM-Project/Data/opendatabcn-income/2009_Distribucio_territorial_renda_familiar.csv', '/content/drive/MyDrive/BDM-Project/Data/opendatabcn-income/2010_Distribucio_territorial_renda_familiar.csv', '/content/drive/MyDrive/BDM-Project/Data/opendatabcn-income/2011_Distribucio_territorial_renda_familiar.csv', '/content/drive/MyDrive/BDM-Project/Data/opendatabcn-income/2012_Distribucio_territorial_renda_familiar.csv', '/content/drive/MyDrive/BDM-Project/Data/opendatabcn-income/2013_Distribucio_territorial_renda_familiar.csv', '/content/drive/MyDrive/BDM-Project/Data/opendatabcn-income/2014_Distribucio_territorial_renda_familiar.csv', '/content/drive/MyDrive/BDM-Project/Data/opendatabcn-income/2015_Distribucio_territorial_renda_familiar.csv', '/content/drive/MyDrive/BDM-Project/Data/opendatabcn-income/2016_Distribucio_territorial_renda_familiar.csv', '/content/drive/MyDrive/BDM-Project/Data/opendatabcn-income/2017_Distribució_territorial_renda_familiar.csv']\n"
          ]
        }
      ]
    },
    {
      "cell_type": "code",
      "source": [
        "print (table)"
      ],
      "metadata": {
        "colab": {
          "base_uri": "https://localhost:8080/"
        },
        "id": "_p4m2ldqslNL",
        "outputId": "a3349443-2f10-4705-bc2f-4e0745d805ef"
      },
      "execution_count": 10,
      "outputs": [
        {
          "output_type": "stream",
          "name": "stdout",
          "text": [
            "pyarrow.Table\n",
            "Any: uint16\n",
            "Codi_Districte: uint8\n",
            "Nom_Districte: string\n",
            "Codi_Barri: uint8\n",
            "Nom_Barri: string\n",
            "Població: uint32\n",
            "Índex RFD Barcelona = 100: string\n",
            "----\n",
            "Any: [[2007,2007,2007,2007,2007,2007,2007,2007,2007,2007,...,2007,2007,2007,2007,2007,2007,2007,2007,2007,2007],[2008,2008,2008,2008,2008,2008,2008,2008,2008,2008,...,2008,2008,2008,2008,2008,2008,2008,2008,2008,2008],[2009,2009,2009,2009,2009,2009,2009,2009,2009,2009,...,2009,2009,2009,2009,2009,2009,2009,2009,2009,2009],[2010,2010,2010,2010,2010,2010,2010,2010,2010,2010,...,2010,2010,2010,2010,2010,2010,2010,2010,2010,2010],[2011,2011,2011,2011,2011,2011,2011,2011,2011,2011,...,2011,2011,2011,2011,2011,2011,2011,2011,2011,2011],[2012,2012,2012,2012,2012,2012,2012,2012,2012,2012,...,2012,2012,2012,2012,2012,2012,2012,2012,2012,2012],[2013,2013,2013,2013,2013,2013,2013,2013,2013,2013,...,2013,2013,2013,2013,2013,2013,2013,2013,2013,2013],[2014,2014,2014,2014,2014,2014,2014,2014,2014,2014,...,2014,2014,2014,2014,2014,2014,2014,2014,2014,2014],[2015,2015,2015,2015,2015,2015,2015,2015,2015,2015,...,2015,2015,2015,2015,2015,2015,2015,2015,2015,2015],[2016,2016,2016,2016,2016,2016,2016,2016,2016,2016,...,2016,2016,2016,2016,2016,2016,2016,2016,2016,2016],[2017,2017,2017,2017,2017,2017,2017,2017,2017,2017,...,2017,2017,2017,2017,2017,2017,2017,2017,2017,2017]]\n",
            "Codi_Districte: [[1,1,1,1,2,2,2,2,2,2,...,10,10,10,10,10,10,10,10,10,99],[1,1,1,1,2,2,2,2,2,2,...,10,10,10,10,10,10,10,10,10,10],[1,1,1,1,2,2,2,2,2,2,...,10,10,10,10,10,10,10,10,10,99],[1,1,1,1,2,2,2,2,2,2,...,10,10,10,10,10,10,10,10,10,99],[1,1,1,1,2,2,2,2,2,2,...,10,10,10,10,10,10,10,10,10,99],[1,1,1,1,2,2,2,2,2,2,...,10,10,10,10,10,10,10,10,10,99],[1,1,1,1,2,2,2,2,2,2,...,10,10,10,10,10,10,10,10,10,99],[1,1,1,1,2,2,2,2,2,2,...,10,10,10,10,10,10,10,10,10,99],[1,1,1,1,2,2,2,2,2,2,...,10,10,10,10,10,10,10,10,10,99],[1,1,1,1,2,2,2,2,2,2,...,10,10,10,10,10,10,10,10,10,10],[1,1,1,1,2,2,2,2,2,2,...,10,10,10,10,10,10,10,10,10,10]]\n",
            "Nom_Districte: [[\"Ciutat Vella\",\"Ciutat Vella\",\"Ciutat Vella\",\"Ciutat Vella\",\"Eixample\",\"Eixample\",\"Eixample\",\"Eixample\",\"Eixample\",\"Eixample\",...,\"Sant Martí\",\"Sant Martí\",\"Sant Martí\",\"Sant Martí\",\"Sant Martí\",\"Sant Martí\",\"Sant Martí\",\"Sant Martí\",\"Sant Martí\",\"No consta\"],[\"Ciutat Vella\",\"Ciutat Vella\",\"Ciutat Vella\",\"Ciutat Vella\",\"Eixample\",\"Eixample\",\"Eixample\",\"Eixample\",\"Eixample\",\"Eixample\",...,\"Sant Martí\",\"Sant Martí\",\"Sant Martí\",\"Sant Martí\",\"Sant Martí\",\"Sant Martí\",\"Sant Martí\",\"Sant Martí\",\"Sant Martí\",\"Sant Martí\"],[\"Ciutat Vella\",\"Ciutat Vella\",\"Ciutat Vella\",\"Ciutat Vella\",\"Eixample\",\"Eixample\",\"Eixample\",\"Eixample\",\"Eixample\",\"Eixample\",...,\"Sant Martí\",\"Sant Martí\",\"Sant Martí\",\"Sant Martí\",\"Sant Martí\",\"Sant Martí\",\"Sant Martí\",\"Sant Martí\",\"Sant Martí\",\"No consta\"],[\"Ciutat Vella\",\"Ciutat Vella\",\"Ciutat Vella\",\"Ciutat Vella\",\"Eixample\",\"Eixample\",\"Eixample\",\"Eixample\",\"Eixample\",\"Eixample\",...,\"Sant Martí\",\"Sant Martí\",\"Sant Martí\",\"Sant Martí\",\"Sant Martí\",\"Sant Martí\",\"Sant Martí\",\"Sant Martí\",\"Sant Martí\",\"No consta\"],[\"Ciutat Vella\",\"Ciutat Vella\",\"Ciutat Vella\",\"Ciutat Vella\",\"Eixample\",\"Eixample\",\"Eixample\",\"Eixample\",\"Eixample\",\"Eixample\",...,\"Sant Martí\",\"Sant Martí\",\"Sant Martí\",\"Sant Martí\",\"Sant Martí\",\"Sant Martí\",\"Sant Martí\",\"Sant Martí\",\"Sant Martí\",\"No consta\"],[\"Ciutat Vella\",\"Ciutat Vella\",\"Ciutat Vella\",\"Ciutat Vella\",\"Eixample\",\"Eixample\",\"Eixample\",\"Eixample\",\"Eixample\",\"Eixample\",...,\"Sant Martí\",\"Sant Martí\",\"Sant Martí\",\"Sant Martí\",\"Sant Martí\",\"Sant Martí\",\"Sant Martí\",\"Sant Martí\",\"Sant Martí\",\"No consta\"],[\"Ciutat Vella\",\"Ciutat Vella\",\"Ciutat Vella\",\"Ciutat Vella\",\"Eixample\",\"Eixample\",\"Eixample\",\"Eixample\",\"Eixample\",\"Eixample\",...,\"Sant Martí\",\"Sant Martí\",\"Sant Martí\",\"Sant Martí\",\"Sant Martí\",\"Sant Martí\",\"Sant Martí\",\"Sant Martí\",\"Sant Martí\",\"No consta\"],[\"Ciutat Vella\",\"Ciutat Vella\",\"Ciutat Vella\",\"Ciutat Vella\",\"Eixample\",\"Eixample\",\"Eixample\",\"Eixample\",\"Eixample\",\"Eixample\",...,\"Sant Martí\",\"Sant Martí\",\"Sant Martí\",\"Sant Martí\",\"Sant Martí\",\"Sant Martí\",\"Sant Martí\",\"Sant Martí\",\"Sant Martí\",\"No consta\"],[\"Ciutat Vella\",\"Ciutat Vella\",\"Ciutat Vella\",\"Ciutat Vella\",\"Eixample\",\"Eixample\",\"Eixample\",\"Eixample\",\"Eixample\",\"Eixample\",...,\"Sant Martí\",\"Sant Martí\",\"Sant Martí\",\"Sant Martí\",\"Sant Martí\",\"Sant Martí\",\"Sant Martí\",\"Sant Martí\",\"Sant Martí\",\"No consta\"],[\"Ciutat Vella\",\"Ciutat Vella\",\"Ciutat Vella\",\"Ciutat Vella\",\"Eixample\",\"Eixample\",\"Eixample\",\"Eixample\",\"Eixample\",\"Eixample\",...,\"Sant Martí\",\"Sant Martí\",\"Sant Martí\",\"Sant Martí\",\"Sant Martí\",\"Sant Martí\",\"Sant Martí\",\"Sant Martí\",\"Sant Martí\",\"Sant Martí\"],[\"Ciutat Vella\",\"Ciutat Vella\",\"Ciutat Vella\",\"Ciutat Vella\",\"Eixample\",\"Eixample\",\"Eixample\",\"Eixample\",\"Eixample\",\"Eixample\",...,\"Sant Martí\",\"Sant Martí\",\"Sant Martí\",\"Sant Martí\",\"Sant Martí\",\"Sant Martí\",\"Sant Martí\",\"Sant Martí\",\"Sant Martí\",\"Sant Martí\"]]\n",
            "Codi_Barri: [[1,2,3,4,5,6,7,8,9,10,...,65,66,67,68,69,70,71,72,73,99],[1,2,3,4,5,6,7,8,9,10,...,64,65,66,67,68,69,70,71,72,73],[1,2,3,4,5,6,7,8,9,10,...,65,66,67,68,69,70,71,72,73,99],[1,2,3,4,5,6,7,8,9,10,...,65,66,67,68,69,70,71,72,73,99],[1,2,3,4,5,6,7,8,9,10,...,65,66,67,68,69,70,71,72,73,99],[1,2,3,4,5,6,7,8,9,10,...,65,66,67,68,69,70,71,72,73,99],[1,2,3,4,5,6,7,8,9,10,...,65,66,67,68,69,70,71,72,73,99],[1,2,3,4,5,6,7,8,9,10,...,65,66,67,68,69,70,71,72,73,99],[1,2,3,4,5,6,7,8,9,10,...,65,66,67,68,69,70,71,72,73,99],[1,2,3,4,5,6,7,8,9,10,...,64,65,66,67,68,69,70,71,72,73],[1,2,3,4,5,6,7,8,9,10,...,64,65,66,67,68,69,70,71,72,73]]\n",
            "Nom_Barri: [[\"el Raval\",\"el Barri Gòtic\",\"la Barceloneta\",\"Sant Pere, Santa Caterina i la Ribera\",\"el Fort Pienc\",\"la Sagrada Família\",\"la Dreta de l'Eixample\",\"l'Antiga Esquerra de l'Eixample\",\"la Nova Esquerra de l'Eixample\",\"Sant Antoni\",...,\"el Clot\",\"el Parc i la Llacuna del Poblenou\",\"la Vila Olímpica del Poblenou\",\"el Poblenou\",\"Diagonal Mar i el Front Marítim del Poblenou\",\"el Besòs i el Maresme\",\"Provençals del Poblenou\",\"Sant Martí de Provençals\",\"la Verneda i la Pau\",\"No consta\"],[\"el Raval\",\"el Barri Gòtic\",\"la Barceloneta\",\"Sant Pere, Santa Caterina i la Ribera\",\"el Fort Pienc\",\"la Sagrada Família\",\"la Dreta de l'Eixample\",\"l'Antiga Esquerra de l'Eixample\",\"la Nova Esquerra de l'Eixample\",\"Sant Antoni\",...,\"el Camp de l'Arpa del Clot\",\"el Clot\",\"el Parc i la Llacuna del Poblenou\",\"la Vila Olímpica del Poblenou\",\"el Poblenou\",\"Diagonal Mar i el Front Marítim del Poblenou\",\"el Besòs i el Maresme\",\"Provençals del Poblenou\",\"Sant Martí de Provençals\",\"la Verneda i la Pau\"],[\"el Raval\",\"el Barri Gòtic\",\"la Barceloneta\",\"Sant Pere, Santa Caterina i la Ribera\",\"el Fort Pienc\",\"la Sagrada Família\",\"la Dreta de l'Eixample\",\"l'Antiga Esquerra de l'Eixample\",\"la Nova Esquerra de l'Eixample\",\"Sant Antoni\",...,\"el Clot\",\"el Parc i la Llacuna del Poblenou\",\"la Vila Olímpica del Poblenou\",\"el Poblenou\",\"Diagonal Mar i el Front Marítim del Poblenou\",\"el Besòs i el Maresme\",\"Provençals del Poblenou\",\"Sant Martí de Provençals\",\"la Verneda i la Pau\",\"No consta\"],[\"el Raval\",\"el Barri Gòtic\",\"la Barceloneta\",\"Sant Pere, Santa Caterina i la Ribera\",\"el Fort Pienc\",\"la Sagrada Família\",\"la Dreta de l'Eixample\",\"l'Antiga Esquerra de l'Eixample\",\"la Nova Esquerra de l'Eixample\",\"Sant Antoni\",...,\"el Clot\",\"el Parc i la Llacuna del Poblenou\",\"la Vila Olímpica del Poblenou\",\"el Poblenou\",\"Diagonal Mar i el Front Marítim del Poblenou\",\"el Besòs i el Maresme\",\"Provençals del Poblenou\",\"Sant Martí de Provençals\",\"la Verneda i la Pau\",\"No consta\"],[\"el Raval\",\"el Barri Gòtic\",\"la Barceloneta\",\"Sant Pere, Santa Caterina i la Ribera\",\"el Fort Pienc\",\"la Sagrada Família\",\"la Dreta de l'Eixample\",\"l'Antiga Esquerra de l'Eixample\",\"la Nova Esquerra de l'Eixample\",\"Sant Antoni\",...,\"el Clot\",\"el Parc i la Llacuna del Poblenou\",\"la Vila Olímpica del Poblenou\",\"el Poblenou\",\"Diagonal Mar i el Front Marítim del Poblenou\",\"el Besòs i el Maresme\",\"Provençals del Poblenou\",\"Sant Martí de Provençals\",\"la Verneda i la Pau\",\"No consta\"],[\"el Raval\",\"el Barri Gòtic\",\"la Barceloneta\",\"Sant Pere, Santa Caterina i la Ribera\",\"el Fort Pienc\",\"la Sagrada Família\",\"la Dreta de l'Eixample\",\"l'Antiga Esquerra de l'Eixample\",\"la Nova Esquerra de l'Eixample\",\"Sant Antoni\",...,\"el Clot\",\"el Parc i la Llacuna del Poblenou\",\"la Vila Olímpica del Poblenou\",\"el Poblenou\",\"Diagonal Mar i el Front Marítim del Poblenou\",\"el Besòs i el Maresme\",\"Provençals del Poblenou\",\"Sant Martí de Provençals\",\"la Verneda i la Pau\",\"No consta\"],[\"el Raval\",\"el Barri Gòtic\",\"la Barceloneta\",\"Sant Pere, Santa Caterina i la Ribera\",\"el Fort Pienc\",\"la Sagrada Família\",\"la Dreta de l'Eixample\",\"l'Antiga Esquerra de l'Eixample\",\"la Nova Esquerra de l'Eixample\",\"Sant Antoni\",...,\"el Clot\",\"el Parc i la Llacuna del Poblenou\",\"la Vila Olímpica del Poblenou\",\"el Poblenou\",\"Diagonal Mar i el Front Marítim del Poblenou\",\"el Besòs i el Maresme\",\"Provençals del Poblenou\",\"Sant Martí de Provençals\",\"la Verneda i la Pau\",\"No consta\"],[\"el Raval\",\"el Barri Gòtic\",\"la Barceloneta\",\"Sant Pere, Santa Caterina i la Ribera\",\"el Fort Pienc\",\"la Sagrada Família\",\"la Dreta de l'Eixample\",\"l'Antiga Esquerra de l'Eixample\",\"la Nova Esquerra de l'Eixample\",\"Sant Antoni\",...,\"el Clot\",\"el Parc i la Llacuna del Poblenou\",\"la Vila Olímpica del Poblenou\",\"el Poblenou\",\"Diagonal Mar i el Front Marítim del Poblenou\",\"el Besòs i el Maresme\",\"Provençals del Poblenou\",\"Sant Martí de Provençals\",\"la Verneda i la Pau\",\"No consta\"],[\"el Raval\",\"el Barri Gòtic\",\"la Barceloneta\",\"Sant Pere, Santa Caterina i la Ribera\",\"el Fort Pienc\",\"la Sagrada Família\",\"la Dreta de l'Eixample\",\"l'Antiga Esquerra de l'Eixample\",\"la Nova Esquerra de l'Eixample\",\"Sant Antoni\",...,\"el Clot\",\"el Parc i la Llacuna del Poblenou\",\"la Vila Olímpica del Poblenou\",\"el Poblenou\",\"Diagonal Mar i el Front Marítim del Poblenou\",\"el Besòs i el Maresme\",\"Provençals del Poblenou\",\"Sant Martí de Provençals\",\"la Verneda i la Pau\",\"No consta\"],[\"el Raval\",\"el Barri Gòtic\",\"la Barceloneta\",\"Sant Pere, Santa Caterina i la Ribera\",\"el Fort Pienc\",\"la Sagrada Família\",\"la Dreta de l'Eixample\",\"l'Antiga Esquerra de l'Eixample\",\"la Nova Esquerra de l'Eixample\",\"Sant Antoni\",...,\"el Camp de l'Arpa del Clot\",\"el Clot\",\"el Parc i la Llacuna del Poblenou\",\"la Vila Olímpica del Poblenou\",\"el Poblenou\",\"Diagonal Mar i el Front Marítim del Poblenou\",\"el Besòs i el Maresme\",\"Provençals del Poblenou\",\"Sant Martí de Provençals\",\"la Verneda i la Pau\"],[\"el Raval\",\"el Barri Gòtic\",\"la Barceloneta\",\"Sant Pere, Santa Caterina i la Ribera\",\"el Fort Pienc\",\"la Sagrada Família\",\"la Dreta de l'Eixample\",\"l'Antiga Esquerra de l'Eixample\",\"la Nova Esquerra de l'Eixample\",\"Sant Antoni\",...,\"el Camp de l'Arpa del Clot\",\"el Clot\",\"el Parc i la Llacuna del Poblenou\",\"la Vila Olímpica del Poblenou\",\"el Poblenou\",\"Diagonal Mar i el Front Marítim del Poblenou\",\"el Besòs i el Maresme\",\"Provençals del Poblenou\",\"Sant Martí de Provençals\",\"la Verneda i la Pau\"]]\n",
            "Població: [[46595,27946,15921,22572,31521,52185,42504,41413,58146,37988,...,26796,13104,8783,30181,9775,22652,18731,26261,29452,879],[47431,25556,16000,22649,32167,52593,42793,41654,58412,38247,...,38738,27121,13175,8935,30624,9921,23557,18556,26199,29603],[49315,21045,16351,23136,33202,52890,43609,42183,58559,38742,...,27562,13457,9202,31433,11132,24527,19542,26457,29626,499],[48767,18720,16261,23101,32900,52424,43473,42076,58247,38414,...,27505,13728,9275,31961,11730,24403,19636,26281,29385,251],[48485,17257,15674,22632,32348,52000,43206,41653,57659,38130,...,27114,13772,9191,32208,12289,23998,19732,26178,29131,70],[49844,16754,15745,22873,32225,52007,43436,41887,57760,38277,...,27201,14147,9322,32816,12701,23732,19952,26152,29201,145],[49225,16327,15571,22821,31754,51725,43439,41843,57828,38299,...,27154,14513,9367,33176,13125,23202,20158,26040,29103,205],[48471,15911,15181,22674,31785,51562,43749,41975,57863,38369,...,27082,14814,9391,33425,13351,23191,20184,26018,28903,1],[47617,15269,15036,22305,31645,51347,43344,41696,57711,38248,...,27013,14764,9261,33579,13352,23026,20244,26005,28678,1],[47274,15729,15068,22380,31693,51349,43715,41872,57676,38182,...,38252,26928,14861,9346,33621,13455,22609,20516,26031,28673],[47986,16240,15101,22923,32048,51651,44246,42512,58315,38412,...,38371,27089,15204,9404,33931,13710,22893,20649,26187,28725]]\n",
            "Índex RFD Barcelona = 100: [[\"64.7\",\"86.5\",\"66.7\",\"80.2\",\"107.9\",\"101.8\",\"137.6\",\"126.5\",\"116.9\",\"103.8\",...,\"88.5\",\"103.2\",\"132.8\",\"94.5\",\"101.1\",\"61.7\",\"85.7\",\"81.5\",\"74.8\",\"-\"],[\"62.6\",\"80.8\",\"65.9\",\"81.8\",\"108.3\",\"100.7\",\"138.0\",\"122.8\",\"116.6\",\"102.9\",...,\"92.4\",\"89.0\",\"106.2\",\"133.3\",\"93.6\",\"104.4\",\"61.1\",\"85.1\",\"80.3\",\"74.3\"],[\"62.0\",\"94.3\",\"64.4\",\"88.8\",\"109.1\",\"98.4\",\"143.6\",\"122.6\",\"114.3\",\"99.5\",...,\"85.5\",\"103.1\",\"141.1\",\"86.5\",\"107.9\",\"53.7\",\"82.4\",\"76.6\",\"67.8\",\"-\"],[\"62.0\",\"92.3\",\"72.6\",\"91.2\",\"108.5\",\"97.3\",\"144.1\",\"125.9\",\"115.2\",\"95.4\",...,\"82.8\",\"97.3\",\"134.9\",\"86.3\",\"106.8\",\"53.6\",\"77.1\",\"74.9\",\"68.4\",\"-\"],[\"65.0\",\"98.8\",\"73.1\",\"86.1\",\"97.9\",\"96.1\",\"151.7\",\"121.3\",\"107.7\",\"95.9\",...,\"80.0\",\"90.9\",\"146.0\",\"89.2\",\"122.3\",\"52.9\",\"84.3\",\"65.0\",\"61.8\",\"-\"],[\"65.4\",\"99.7\",\"69.0\",\"89.3\",\"98.0\",\"95.3\",\"150.1\",\"119.2\",\"105.9\",\"94.8\",...,\"78.2\",\"88.9\",\"146.6\",\"89.8\",\"127.4\",\"52.4\",\"80.4\",\"63.5\",\"56.8\",\"-\"],[\"60.3\",\"103.6\",\"82.1\",\"91.2\",\"99.0\",\"97.5\",\"165.7\",\"125.1\",\"108.6\",\"102.5\",...,\"76.9\",\"93.7\",\"151.6\",\"89.6\",\"150.1\",\"53.0\",\"76.1\",\"66.2\",\"56.1\",\"-\"],[\"65.9\",\"98.5\",\"84.5\",\"92.5\",\"104.5\",\"92.4\",\"165.3\",\"127.8\",\"109.1\",\"97.8\",...,\"81.0\",\"88.6\",\"150.8\",\"95.4\",\"168.8\",\"58.9\",\"91.7\",\"67.6\",\"57.2\",\"-\"],[\"75.8\",\"108.5\",\"76.6\",\"96.4\",\"104.8\",\"95.8\",\"165.8\",\"128.9\",\"103.8\",\"98.6\",...,\"84.7\",\"96.8\",\"150.2\",\"95.6\",\"162.5\",\"54.4\",\"102.8\",\"68.3\",\"57.5\",\"-\"],[\"74.6\",\"110.5\",\"84.8\",\"97.8\",\"105.0\",\"95.9\",\"170.0\",\"139.2\",\"105.3\",\"104.0\",...,\"82.7\",\"83.7\",\"92.1\",\"162.0\",\"98.6\",\"152.6\",\"54.7\",\"98.7\",\"68.7\",\"58.8\"],[\"71.2\",\"106.1\",\"79.6\",\"99.4\",\"106.5\",\"101.8\",\"175.9\",\"137.2\",\"110.2\",\"104.2\",...,\"81.7\",\"83.6\",\"100.4\",\"164.2\",\"99.9\",\"150.1\",\"60.4\",\"102.3\",\"67.4\",\"57.0\"]]\n"
          ]
        }
      ]
    },
    {
      "cell_type": "markdown",
      "source": [
        "If no schema is provided, pyarrow will infer the datatypes, but they will be less efficient."
      ],
      "metadata": {
        "id": "p9c9d8w3IWRa"
      }
    },
    {
      "cell_type": "code",
      "source": [
        "table_noSchema, files = LoadPartitionedCSV(directory, \"opendatabcn-income\")"
      ],
      "metadata": {
        "id": "EKxX0b3u6YWW"
      },
      "execution_count": 11,
      "outputs": []
    },
    {
      "cell_type": "code",
      "source": [
        "print(table_noSchema)"
      ],
      "metadata": {
        "colab": {
          "base_uri": "https://localhost:8080/"
        },
        "id": "pQf8WBlrII7M",
        "outputId": "7a8a2b58-adc9-49c3-c018-1492372c99f5"
      },
      "execution_count": 12,
      "outputs": [
        {
          "output_type": "stream",
          "name": "stdout",
          "text": [
            "pyarrow.Table\n",
            "Any: int64\n",
            "Codi_Districte: int64\n",
            "Nom_Districte: string\n",
            "Codi_Barri: int64\n",
            "Nom_Barri: string\n",
            "Població: int64\n",
            "Índex RFD Barcelona = 100: string\n",
            "----\n",
            "Any: [[2007,2007,2007,2007,2007,2007,2007,2007,2007,2007,...,2007,2007,2007,2007,2007,2007,2007,2007,2007,2007],[2008,2008,2008,2008,2008,2008,2008,2008,2008,2008,...,2008,2008,2008,2008,2008,2008,2008,2008,2008,2008],[2009,2009,2009,2009,2009,2009,2009,2009,2009,2009,...,2009,2009,2009,2009,2009,2009,2009,2009,2009,2009],[2010,2010,2010,2010,2010,2010,2010,2010,2010,2010,...,2010,2010,2010,2010,2010,2010,2010,2010,2010,2010],[2011,2011,2011,2011,2011,2011,2011,2011,2011,2011,...,2011,2011,2011,2011,2011,2011,2011,2011,2011,2011],[2012,2012,2012,2012,2012,2012,2012,2012,2012,2012,...,2012,2012,2012,2012,2012,2012,2012,2012,2012,2012],[2013,2013,2013,2013,2013,2013,2013,2013,2013,2013,...,2013,2013,2013,2013,2013,2013,2013,2013,2013,2013],[2014,2014,2014,2014,2014,2014,2014,2014,2014,2014,...,2014,2014,2014,2014,2014,2014,2014,2014,2014,2014],[2015,2015,2015,2015,2015,2015,2015,2015,2015,2015,...,2015,2015,2015,2015,2015,2015,2015,2015,2015,2015],[2016,2016,2016,2016,2016,2016,2016,2016,2016,2016,...,2016,2016,2016,2016,2016,2016,2016,2016,2016,2016],[2017,2017,2017,2017,2017,2017,2017,2017,2017,2017,...,2017,2017,2017,2017,2017,2017,2017,2017,2017,2017]]\n",
            "Codi_Districte: [[1,1,1,1,2,2,2,2,2,2,...,10,10,10,10,10,10,10,10,10,99],[1,1,1,1,2,2,2,2,2,2,...,10,10,10,10,10,10,10,10,10,10],[1,1,1,1,2,2,2,2,2,2,...,10,10,10,10,10,10,10,10,10,99],[1,1,1,1,2,2,2,2,2,2,...,10,10,10,10,10,10,10,10,10,99],[1,1,1,1,2,2,2,2,2,2,...,10,10,10,10,10,10,10,10,10,99],[1,1,1,1,2,2,2,2,2,2,...,10,10,10,10,10,10,10,10,10,99],[1,1,1,1,2,2,2,2,2,2,...,10,10,10,10,10,10,10,10,10,99],[1,1,1,1,2,2,2,2,2,2,...,10,10,10,10,10,10,10,10,10,99],[1,1,1,1,2,2,2,2,2,2,...,10,10,10,10,10,10,10,10,10,99],[1,1,1,1,2,2,2,2,2,2,...,10,10,10,10,10,10,10,10,10,10],[1,1,1,1,2,2,2,2,2,2,...,10,10,10,10,10,10,10,10,10,10]]\n",
            "Nom_Districte: [[\"Ciutat Vella\",\"Ciutat Vella\",\"Ciutat Vella\",\"Ciutat Vella\",\"Eixample\",\"Eixample\",\"Eixample\",\"Eixample\",\"Eixample\",\"Eixample\",...,\"Sant Martí\",\"Sant Martí\",\"Sant Martí\",\"Sant Martí\",\"Sant Martí\",\"Sant Martí\",\"Sant Martí\",\"Sant Martí\",\"Sant Martí\",\"No consta\"],[\"Ciutat Vella\",\"Ciutat Vella\",\"Ciutat Vella\",\"Ciutat Vella\",\"Eixample\",\"Eixample\",\"Eixample\",\"Eixample\",\"Eixample\",\"Eixample\",...,\"Sant Martí\",\"Sant Martí\",\"Sant Martí\",\"Sant Martí\",\"Sant Martí\",\"Sant Martí\",\"Sant Martí\",\"Sant Martí\",\"Sant Martí\",\"Sant Martí\"],[\"Ciutat Vella\",\"Ciutat Vella\",\"Ciutat Vella\",\"Ciutat Vella\",\"Eixample\",\"Eixample\",\"Eixample\",\"Eixample\",\"Eixample\",\"Eixample\",...,\"Sant Martí\",\"Sant Martí\",\"Sant Martí\",\"Sant Martí\",\"Sant Martí\",\"Sant Martí\",\"Sant Martí\",\"Sant Martí\",\"Sant Martí\",\"No consta\"],[\"Ciutat Vella\",\"Ciutat Vella\",\"Ciutat Vella\",\"Ciutat Vella\",\"Eixample\",\"Eixample\",\"Eixample\",\"Eixample\",\"Eixample\",\"Eixample\",...,\"Sant Martí\",\"Sant Martí\",\"Sant Martí\",\"Sant Martí\",\"Sant Martí\",\"Sant Martí\",\"Sant Martí\",\"Sant Martí\",\"Sant Martí\",\"No consta\"],[\"Ciutat Vella\",\"Ciutat Vella\",\"Ciutat Vella\",\"Ciutat Vella\",\"Eixample\",\"Eixample\",\"Eixample\",\"Eixample\",\"Eixample\",\"Eixample\",...,\"Sant Martí\",\"Sant Martí\",\"Sant Martí\",\"Sant Martí\",\"Sant Martí\",\"Sant Martí\",\"Sant Martí\",\"Sant Martí\",\"Sant Martí\",\"No consta\"],[\"Ciutat Vella\",\"Ciutat Vella\",\"Ciutat Vella\",\"Ciutat Vella\",\"Eixample\",\"Eixample\",\"Eixample\",\"Eixample\",\"Eixample\",\"Eixample\",...,\"Sant Martí\",\"Sant Martí\",\"Sant Martí\",\"Sant Martí\",\"Sant Martí\",\"Sant Martí\",\"Sant Martí\",\"Sant Martí\",\"Sant Martí\",\"No consta\"],[\"Ciutat Vella\",\"Ciutat Vella\",\"Ciutat Vella\",\"Ciutat Vella\",\"Eixample\",\"Eixample\",\"Eixample\",\"Eixample\",\"Eixample\",\"Eixample\",...,\"Sant Martí\",\"Sant Martí\",\"Sant Martí\",\"Sant Martí\",\"Sant Martí\",\"Sant Martí\",\"Sant Martí\",\"Sant Martí\",\"Sant Martí\",\"No consta\"],[\"Ciutat Vella\",\"Ciutat Vella\",\"Ciutat Vella\",\"Ciutat Vella\",\"Eixample\",\"Eixample\",\"Eixample\",\"Eixample\",\"Eixample\",\"Eixample\",...,\"Sant Martí\",\"Sant Martí\",\"Sant Martí\",\"Sant Martí\",\"Sant Martí\",\"Sant Martí\",\"Sant Martí\",\"Sant Martí\",\"Sant Martí\",\"No consta\"],[\"Ciutat Vella\",\"Ciutat Vella\",\"Ciutat Vella\",\"Ciutat Vella\",\"Eixample\",\"Eixample\",\"Eixample\",\"Eixample\",\"Eixample\",\"Eixample\",...,\"Sant Martí\",\"Sant Martí\",\"Sant Martí\",\"Sant Martí\",\"Sant Martí\",\"Sant Martí\",\"Sant Martí\",\"Sant Martí\",\"Sant Martí\",\"No consta\"],[\"Ciutat Vella\",\"Ciutat Vella\",\"Ciutat Vella\",\"Ciutat Vella\",\"Eixample\",\"Eixample\",\"Eixample\",\"Eixample\",\"Eixample\",\"Eixample\",...,\"Sant Martí\",\"Sant Martí\",\"Sant Martí\",\"Sant Martí\",\"Sant Martí\",\"Sant Martí\",\"Sant Martí\",\"Sant Martí\",\"Sant Martí\",\"Sant Martí\"],[\"Ciutat Vella\",\"Ciutat Vella\",\"Ciutat Vella\",\"Ciutat Vella\",\"Eixample\",\"Eixample\",\"Eixample\",\"Eixample\",\"Eixample\",\"Eixample\",...,\"Sant Martí\",\"Sant Martí\",\"Sant Martí\",\"Sant Martí\",\"Sant Martí\",\"Sant Martí\",\"Sant Martí\",\"Sant Martí\",\"Sant Martí\",\"Sant Martí\"]]\n",
            "Codi_Barri: [[1,2,3,4,5,6,7,8,9,10,...,65,66,67,68,69,70,71,72,73,99],[1,2,3,4,5,6,7,8,9,10,...,64,65,66,67,68,69,70,71,72,73],[1,2,3,4,5,6,7,8,9,10,...,65,66,67,68,69,70,71,72,73,99],[1,2,3,4,5,6,7,8,9,10,...,65,66,67,68,69,70,71,72,73,99],[1,2,3,4,5,6,7,8,9,10,...,65,66,67,68,69,70,71,72,73,99],[1,2,3,4,5,6,7,8,9,10,...,65,66,67,68,69,70,71,72,73,99],[1,2,3,4,5,6,7,8,9,10,...,65,66,67,68,69,70,71,72,73,99],[1,2,3,4,5,6,7,8,9,10,...,65,66,67,68,69,70,71,72,73,99],[1,2,3,4,5,6,7,8,9,10,...,65,66,67,68,69,70,71,72,73,99],[1,2,3,4,5,6,7,8,9,10,...,64,65,66,67,68,69,70,71,72,73],[1,2,3,4,5,6,7,8,9,10,...,64,65,66,67,68,69,70,71,72,73]]\n",
            "Nom_Barri: [[\"el Raval\",\"el Barri Gòtic\",\"la Barceloneta\",\"Sant Pere, Santa Caterina i la Ribera\",\"el Fort Pienc\",\"la Sagrada Família\",\"la Dreta de l'Eixample\",\"l'Antiga Esquerra de l'Eixample\",\"la Nova Esquerra de l'Eixample\",\"Sant Antoni\",...,\"el Clot\",\"el Parc i la Llacuna del Poblenou\",\"la Vila Olímpica del Poblenou\",\"el Poblenou\",\"Diagonal Mar i el Front Marítim del Poblenou\",\"el Besòs i el Maresme\",\"Provençals del Poblenou\",\"Sant Martí de Provençals\",\"la Verneda i la Pau\",\"No consta\"],[\"el Raval\",\"el Barri Gòtic\",\"la Barceloneta\",\"Sant Pere, Santa Caterina i la Ribera\",\"el Fort Pienc\",\"la Sagrada Família\",\"la Dreta de l'Eixample\",\"l'Antiga Esquerra de l'Eixample\",\"la Nova Esquerra de l'Eixample\",\"Sant Antoni\",...,\"el Camp de l'Arpa del Clot\",\"el Clot\",\"el Parc i la Llacuna del Poblenou\",\"la Vila Olímpica del Poblenou\",\"el Poblenou\",\"Diagonal Mar i el Front Marítim del Poblenou\",\"el Besòs i el Maresme\",\"Provençals del Poblenou\",\"Sant Martí de Provençals\",\"la Verneda i la Pau\"],[\"el Raval\",\"el Barri Gòtic\",\"la Barceloneta\",\"Sant Pere, Santa Caterina i la Ribera\",\"el Fort Pienc\",\"la Sagrada Família\",\"la Dreta de l'Eixample\",\"l'Antiga Esquerra de l'Eixample\",\"la Nova Esquerra de l'Eixample\",\"Sant Antoni\",...,\"el Clot\",\"el Parc i la Llacuna del Poblenou\",\"la Vila Olímpica del Poblenou\",\"el Poblenou\",\"Diagonal Mar i el Front Marítim del Poblenou\",\"el Besòs i el Maresme\",\"Provençals del Poblenou\",\"Sant Martí de Provençals\",\"la Verneda i la Pau\",\"No consta\"],[\"el Raval\",\"el Barri Gòtic\",\"la Barceloneta\",\"Sant Pere, Santa Caterina i la Ribera\",\"el Fort Pienc\",\"la Sagrada Família\",\"la Dreta de l'Eixample\",\"l'Antiga Esquerra de l'Eixample\",\"la Nova Esquerra de l'Eixample\",\"Sant Antoni\",...,\"el Clot\",\"el Parc i la Llacuna del Poblenou\",\"la Vila Olímpica del Poblenou\",\"el Poblenou\",\"Diagonal Mar i el Front Marítim del Poblenou\",\"el Besòs i el Maresme\",\"Provençals del Poblenou\",\"Sant Martí de Provençals\",\"la Verneda i la Pau\",\"No consta\"],[\"el Raval\",\"el Barri Gòtic\",\"la Barceloneta\",\"Sant Pere, Santa Caterina i la Ribera\",\"el Fort Pienc\",\"la Sagrada Família\",\"la Dreta de l'Eixample\",\"l'Antiga Esquerra de l'Eixample\",\"la Nova Esquerra de l'Eixample\",\"Sant Antoni\",...,\"el Clot\",\"el Parc i la Llacuna del Poblenou\",\"la Vila Olímpica del Poblenou\",\"el Poblenou\",\"Diagonal Mar i el Front Marítim del Poblenou\",\"el Besòs i el Maresme\",\"Provençals del Poblenou\",\"Sant Martí de Provençals\",\"la Verneda i la Pau\",\"No consta\"],[\"el Raval\",\"el Barri Gòtic\",\"la Barceloneta\",\"Sant Pere, Santa Caterina i la Ribera\",\"el Fort Pienc\",\"la Sagrada Família\",\"la Dreta de l'Eixample\",\"l'Antiga Esquerra de l'Eixample\",\"la Nova Esquerra de l'Eixample\",\"Sant Antoni\",...,\"el Clot\",\"el Parc i la Llacuna del Poblenou\",\"la Vila Olímpica del Poblenou\",\"el Poblenou\",\"Diagonal Mar i el Front Marítim del Poblenou\",\"el Besòs i el Maresme\",\"Provençals del Poblenou\",\"Sant Martí de Provençals\",\"la Verneda i la Pau\",\"No consta\"],[\"el Raval\",\"el Barri Gòtic\",\"la Barceloneta\",\"Sant Pere, Santa Caterina i la Ribera\",\"el Fort Pienc\",\"la Sagrada Família\",\"la Dreta de l'Eixample\",\"l'Antiga Esquerra de l'Eixample\",\"la Nova Esquerra de l'Eixample\",\"Sant Antoni\",...,\"el Clot\",\"el Parc i la Llacuna del Poblenou\",\"la Vila Olímpica del Poblenou\",\"el Poblenou\",\"Diagonal Mar i el Front Marítim del Poblenou\",\"el Besòs i el Maresme\",\"Provençals del Poblenou\",\"Sant Martí de Provençals\",\"la Verneda i la Pau\",\"No consta\"],[\"el Raval\",\"el Barri Gòtic\",\"la Barceloneta\",\"Sant Pere, Santa Caterina i la Ribera\",\"el Fort Pienc\",\"la Sagrada Família\",\"la Dreta de l'Eixample\",\"l'Antiga Esquerra de l'Eixample\",\"la Nova Esquerra de l'Eixample\",\"Sant Antoni\",...,\"el Clot\",\"el Parc i la Llacuna del Poblenou\",\"la Vila Olímpica del Poblenou\",\"el Poblenou\",\"Diagonal Mar i el Front Marítim del Poblenou\",\"el Besòs i el Maresme\",\"Provençals del Poblenou\",\"Sant Martí de Provençals\",\"la Verneda i la Pau\",\"No consta\"],[\"el Raval\",\"el Barri Gòtic\",\"la Barceloneta\",\"Sant Pere, Santa Caterina i la Ribera\",\"el Fort Pienc\",\"la Sagrada Família\",\"la Dreta de l'Eixample\",\"l'Antiga Esquerra de l'Eixample\",\"la Nova Esquerra de l'Eixample\",\"Sant Antoni\",...,\"el Clot\",\"el Parc i la Llacuna del Poblenou\",\"la Vila Olímpica del Poblenou\",\"el Poblenou\",\"Diagonal Mar i el Front Marítim del Poblenou\",\"el Besòs i el Maresme\",\"Provençals del Poblenou\",\"Sant Martí de Provençals\",\"la Verneda i la Pau\",\"No consta\"],[\"el Raval\",\"el Barri Gòtic\",\"la Barceloneta\",\"Sant Pere, Santa Caterina i la Ribera\",\"el Fort Pienc\",\"la Sagrada Família\",\"la Dreta de l'Eixample\",\"l'Antiga Esquerra de l'Eixample\",\"la Nova Esquerra de l'Eixample\",\"Sant Antoni\",...,\"el Camp de l'Arpa del Clot\",\"el Clot\",\"el Parc i la Llacuna del Poblenou\",\"la Vila Olímpica del Poblenou\",\"el Poblenou\",\"Diagonal Mar i el Front Marítim del Poblenou\",\"el Besòs i el Maresme\",\"Provençals del Poblenou\",\"Sant Martí de Provençals\",\"la Verneda i la Pau\"],[\"el Raval\",\"el Barri Gòtic\",\"la Barceloneta\",\"Sant Pere, Santa Caterina i la Ribera\",\"el Fort Pienc\",\"la Sagrada Família\",\"la Dreta de l'Eixample\",\"l'Antiga Esquerra de l'Eixample\",\"la Nova Esquerra de l'Eixample\",\"Sant Antoni\",...,\"el Camp de l'Arpa del Clot\",\"el Clot\",\"el Parc i la Llacuna del Poblenou\",\"la Vila Olímpica del Poblenou\",\"el Poblenou\",\"Diagonal Mar i el Front Marítim del Poblenou\",\"el Besòs i el Maresme\",\"Provençals del Poblenou\",\"Sant Martí de Provençals\",\"la Verneda i la Pau\"]]\n",
            "Població: [[46595,27946,15921,22572,31521,52185,42504,41413,58146,37988,...,26796,13104,8783,30181,9775,22652,18731,26261,29452,879],[47431,25556,16000,22649,32167,52593,42793,41654,58412,38247,...,38738,27121,13175,8935,30624,9921,23557,18556,26199,29603],[49315,21045,16351,23136,33202,52890,43609,42183,58559,38742,...,27562,13457,9202,31433,11132,24527,19542,26457,29626,499],[48767,18720,16261,23101,32900,52424,43473,42076,58247,38414,...,27505,13728,9275,31961,11730,24403,19636,26281,29385,251],[48485,17257,15674,22632,32348,52000,43206,41653,57659,38130,...,27114,13772,9191,32208,12289,23998,19732,26178,29131,70],[49844,16754,15745,22873,32225,52007,43436,41887,57760,38277,...,27201,14147,9322,32816,12701,23732,19952,26152,29201,145],[49225,16327,15571,22821,31754,51725,43439,41843,57828,38299,...,27154,14513,9367,33176,13125,23202,20158,26040,29103,205],[48471,15911,15181,22674,31785,51562,43749,41975,57863,38369,...,27082,14814,9391,33425,13351,23191,20184,26018,28903,1],[47617,15269,15036,22305,31645,51347,43344,41696,57711,38248,...,27013,14764,9261,33579,13352,23026,20244,26005,28678,1],[47274,15729,15068,22380,31693,51349,43715,41872,57676,38182,...,38252,26928,14861,9346,33621,13455,22609,20516,26031,28673],[47986,16240,15101,22923,32048,51651,44246,42512,58315,38412,...,38371,27089,15204,9404,33931,13710,22893,20649,26187,28725]]\n",
            "Índex RFD Barcelona = 100: [[\"64.7\",\"86.5\",\"66.7\",\"80.2\",\"107.9\",\"101.8\",\"137.6\",\"126.5\",\"116.9\",\"103.8\",...,\"88.5\",\"103.2\",\"132.8\",\"94.5\",\"101.1\",\"61.7\",\"85.7\",\"81.5\",\"74.8\",\"-\"],[\"62.6\",\"80.8\",\"65.9\",\"81.8\",\"108.3\",\"100.7\",\"138.0\",\"122.8\",\"116.6\",\"102.9\",...,\"92.4\",\"89.0\",\"106.2\",\"133.3\",\"93.6\",\"104.4\",\"61.1\",\"85.1\",\"80.3\",\"74.3\"],[\"62.0\",\"94.3\",\"64.4\",\"88.8\",\"109.1\",\"98.4\",\"143.6\",\"122.6\",\"114.3\",\"99.5\",...,\"85.5\",\"103.1\",\"141.1\",\"86.5\",\"107.9\",\"53.7\",\"82.4\",\"76.6\",\"67.8\",\"-\"],[\"62.0\",\"92.3\",\"72.6\",\"91.2\",\"108.5\",\"97.3\",\"144.1\",\"125.9\",\"115.2\",\"95.4\",...,\"82.8\",\"97.3\",\"134.9\",\"86.3\",\"106.8\",\"53.6\",\"77.1\",\"74.9\",\"68.4\",\"-\"],[\"65.0\",\"98.8\",\"73.1\",\"86.1\",\"97.9\",\"96.1\",\"151.7\",\"121.3\",\"107.7\",\"95.9\",...,\"80.0\",\"90.9\",\"146.0\",\"89.2\",\"122.3\",\"52.9\",\"84.3\",\"65.0\",\"61.8\",\"-\"],[\"65.4\",\"99.7\",\"69.0\",\"89.3\",\"98.0\",\"95.3\",\"150.1\",\"119.2\",\"105.9\",\"94.8\",...,\"78.2\",\"88.9\",\"146.6\",\"89.8\",\"127.4\",\"52.4\",\"80.4\",\"63.5\",\"56.8\",\"-\"],[\"60.3\",\"103.6\",\"82.1\",\"91.2\",\"99.0\",\"97.5\",\"165.7\",\"125.1\",\"108.6\",\"102.5\",...,\"76.9\",\"93.7\",\"151.6\",\"89.6\",\"150.1\",\"53.0\",\"76.1\",\"66.2\",\"56.1\",\"-\"],[\"65.9\",\"98.5\",\"84.5\",\"92.5\",\"104.5\",\"92.4\",\"165.3\",\"127.8\",\"109.1\",\"97.8\",...,\"81.0\",\"88.6\",\"150.8\",\"95.4\",\"168.8\",\"58.9\",\"91.7\",\"67.6\",\"57.2\",\"-\"],[\"75.8\",\"108.5\",\"76.6\",\"96.4\",\"104.8\",\"95.8\",\"165.8\",\"128.9\",\"103.8\",\"98.6\",...,\"84.7\",\"96.8\",\"150.2\",\"95.6\",\"162.5\",\"54.4\",\"102.8\",\"68.3\",\"57.5\",\"-\"],[\"74.6\",\"110.5\",\"84.8\",\"97.8\",\"105.0\",\"95.9\",\"170.0\",\"139.2\",\"105.3\",\"104.0\",...,\"82.7\",\"83.7\",\"92.1\",\"162.0\",\"98.6\",\"152.6\",\"54.7\",\"98.7\",\"68.7\",\"58.8\"],[\"71.2\",\"106.1\",\"79.6\",\"99.4\",\"106.5\",\"101.8\",\"175.9\",\"137.2\",\"110.2\",\"104.2\",...,\"81.7\",\"83.6\",\"100.4\",\"164.2\",\"99.9\",\"150.1\",\"60.4\",\"102.3\",\"67.4\",\"57.0\"]]\n"
          ]
        }
      ]
    },
    {
      "cell_type": "markdown",
      "source": [
        "Using Dask with Remote Data\n",
        "- https://docs.dask.org/en/latest/how-to/connect-to-remote-data.html\n",
        "- https://docs.dask.org/en/latest/generated/dask.dataframe.read_csv.html#dask.dataframe.read_csv"
      ],
      "metadata": {
        "id": "CyhETt2YLA4S"
      }
    },
    {
      "cell_type": "code",
      "source": [
        "# returns dataframe for processing to parquet for persistent storage\n",
        "# needs to return file list so that files can be deleted after processing?\n",
        "def DaskLoadPartitionedCSV(directory, folder):\n",
        "  \"\"\" \n",
        "  Input: a string for the data directory path,  \n",
        "  a string of the folder name that contains partitioned data in csv format\n",
        "  Output: dask dataframe, list of loaded files\n",
        "  \"\"\"\n",
        "  path = directory + \"/\" + folder + '/*.csv'\n",
        "  # loading all csv files in path to a single dask dataframe with block size 128MB\n",
        "  df = dd.read_csv(path, include_path_column='sourceFile', blocksize='64MB')\n",
        "  return df"
      ],
      "metadata": {
        "id": "22BM3W3WLApq"
      },
      "execution_count": 13,
      "outputs": []
    },
    {
      "cell_type": "code",
      "source": [
        "directory = \"/content/drive/MyDrive/BDM-Project/Data\"\n",
        "df = DaskLoadPartitionedCSV(directory, \"opendatabcn-income\")"
      ],
      "metadata": {
        "id": "OkjkIG7gLANC"
      },
      "execution_count": 14,
      "outputs": []
    },
    {
      "cell_type": "code",
      "source": [
        "df.columns"
      ],
      "metadata": {
        "colab": {
          "base_uri": "https://localhost:8080/"
        },
        "id": "2Tg6GweITAbI",
        "outputId": "ffa44c37-3136-400e-9f04-885bd740409c"
      },
      "execution_count": 15,
      "outputs": [
        {
          "output_type": "execute_result",
          "data": {
            "text/plain": [
              "Index(['Any', 'Codi_Districte', 'Nom_Districte', 'Codi_Barri', 'Nom_Barri',\n",
              "       'Població', 'Índex RFD Barcelona = 100', 'sourceFile'],\n",
              "      dtype='object')"
            ]
          },
          "metadata": {},
          "execution_count": 15
        }
      ]
    },
    {
      "cell_type": "code",
      "source": [
        "df.info"
      ],
      "metadata": {
        "colab": {
          "base_uri": "https://localhost:8080/"
        },
        "id": "3emTnVvNTRnQ",
        "outputId": "5181a110-2cad-4c3f-d082-57dc4725d297"
      },
      "execution_count": 16,
      "outputs": [
        {
          "output_type": "execute_result",
          "data": {
            "text/plain": [
              "<bound method DataFrame.info of Dask DataFrame Structure:\n",
              "                  Any Codi_Districte Nom_Districte Codi_Barri Nom_Barri Població Índex RFD Barcelona = 100       sourceFile\n",
              "npartitions=11                                                                                                             \n",
              "                int64          int64        object      int64    object    int64                    object  category[known]\n",
              "                  ...            ...           ...        ...       ...      ...                       ...              ...\n",
              "...               ...            ...           ...        ...       ...      ...                       ...              ...\n",
              "                  ...            ...           ...        ...       ...      ...                       ...              ...\n",
              "                  ...            ...           ...        ...       ...      ...                       ...              ...\n",
              "Dask Name: from-delayed, 33 tasks>"
            ]
          },
          "metadata": {},
          "execution_count": 16
        }
      ]
    },
    {
      "cell_type": "code",
      "source": [
        "df.info"
      ],
      "metadata": {
        "colab": {
          "base_uri": "https://localhost:8080/"
        },
        "id": "2MLA8o3e-mNC",
        "outputId": "cb3139ee-18eb-4ef7-8c05-3cd3a0cb3c3a"
      },
      "execution_count": 17,
      "outputs": [
        {
          "output_type": "execute_result",
          "data": {
            "text/plain": [
              "<bound method DataFrame.info of Dask DataFrame Structure:\n",
              "                  Any Codi_Districte Nom_Districte Codi_Barri Nom_Barri Població Índex RFD Barcelona = 100       sourceFile\n",
              "npartitions=11                                                                                                             \n",
              "                int64          int64        object      int64    object    int64                    object  category[known]\n",
              "                  ...            ...           ...        ...       ...      ...                       ...              ...\n",
              "...               ...            ...           ...        ...       ...      ...                       ...              ...\n",
              "                  ...            ...           ...        ...       ...      ...                       ...              ...\n",
              "                  ...            ...           ...        ...       ...      ...                       ...              ...\n",
              "Dask Name: from-delayed, 33 tasks>"
            ]
          },
          "metadata": {},
          "execution_count": 17
        }
      ]
    },
    {
      "cell_type": "markdown",
      "source": [
        "Setting Datatypes in Dask\n",
        "- https://docs.dask.org/en/latest/generated/dask.dataframe.DataFrame.astype.html"
      ],
      "metadata": {
        "id": "caKzibLqex40"
      }
    },
    {
      "cell_type": "code",
      "source": [
        "# mixed datatype columns must be converted using dd.to_numeric()\n",
        "schema = {\n",
        "    'Any':'uint16',\n",
        "    'Codi_Districte':'uint8',\n",
        "    'Nom_Districte': \"string[pyarrow]\",\n",
        "    'Codi_Barri':'uint8',\n",
        "    'Nom_Barri': \"string[pyarrow]\",\n",
        "    'Població':'uint32',\n",
        "    'Índex RFD Barcelona = 100': \"string[pyarrow]\",\n",
        "    'sourceFile': \"string[pyarrow]\" \n",
        "}"
      ],
      "metadata": {
        "id": "7xNipVCJjKB5"
      },
      "execution_count": 18,
      "outputs": []
    },
    {
      "cell_type": "code",
      "source": [
        "df = df.astype(schema)"
      ],
      "metadata": {
        "id": "Xt2V2GTdhobA"
      },
      "execution_count": 19,
      "outputs": []
    },
    {
      "cell_type": "markdown",
      "source": [
        "Converting dtypes to numeric using errors='coerce'\n",
        "- https://docs.dask.org/en/latest/generated/dask.dataframe.to_numeric.html"
      ],
      "metadata": {
        "id": "ZH33F_yp07aR"
      }
    },
    {
      "cell_type": "code",
      "source": [
        "df['Índex RFD Barcelona = 100']= dd.to_numeric(df['Índex RFD Barcelona = 100'], errors='coerce')"
      ],
      "metadata": {
        "id": "VcWuAbMQwQ8q"
      },
      "execution_count": 20,
      "outputs": []
    },
    {
      "cell_type": "code",
      "source": [
        "df.compute().shape"
      ],
      "metadata": {
        "colab": {
          "base_uri": "https://localhost:8080/"
        },
        "id": "cIm8uJpMqBip",
        "outputId": "a1b236de-0bc8-4184-eb69-154304cc471e"
      },
      "execution_count": 21,
      "outputs": [
        {
          "output_type": "execute_result",
          "data": {
            "text/plain": [
              "(811, 8)"
            ]
          },
          "metadata": {},
          "execution_count": 21
        }
      ]
    },
    {
      "cell_type": "code",
      "source": [
        "df.dtypes"
      ],
      "metadata": {
        "colab": {
          "base_uri": "https://localhost:8080/"
        },
        "id": "YvWiHfJvp0IV",
        "outputId": "d39f05a6-d1fb-4f90-8455-146ed9944563"
      },
      "execution_count": 22,
      "outputs": [
        {
          "output_type": "execute_result",
          "data": {
            "text/plain": [
              "Any                          uint16\n",
              "Codi_Districte                uint8\n",
              "Nom_Districte                string\n",
              "Codi_Barri                    uint8\n",
              "Nom_Barri                    string\n",
              "Població                     uint32\n",
              "Índex RFD Barcelona = 100     int64\n",
              "sourceFile                   string\n",
              "dtype: object"
            ]
          },
          "metadata": {},
          "execution_count": 22
        }
      ]
    },
    {
      "cell_type": "markdown",
      "source": [
        "The numeric conversion worked correctly. For some reason, the dtype is showing int64 instead of float, but the decimal values are retained in the 'Índex RFD Barcelona = 100' column. The 8 values which were '-' have been replaced with null values."
      ],
      "metadata": {
        "id": "zKBnD6X92rgl"
      }
    },
    {
      "cell_type": "code",
      "source": [
        "df.head(10)"
      ],
      "metadata": {
        "colab": {
          "base_uri": "https://localhost:8080/",
          "height": 597
        },
        "id": "pPzRzXQ4qL9F",
        "outputId": "f8fdea2f-6e51-4318-efe3-25407658b3be"
      },
      "execution_count": 23,
      "outputs": [
        {
          "output_type": "execute_result",
          "data": {
            "text/plain": [
              "    Any  Codi_Districte Nom_Districte  Codi_Barri  \\\n",
              "0  2007               1  Ciutat Vella           1   \n",
              "1  2007               1  Ciutat Vella           2   \n",
              "2  2007               1  Ciutat Vella           3   \n",
              "3  2007               1  Ciutat Vella           4   \n",
              "4  2007               2      Eixample           5   \n",
              "5  2007               2      Eixample           6   \n",
              "6  2007               2      Eixample           7   \n",
              "7  2007               2      Eixample           8   \n",
              "8  2007               2      Eixample           9   \n",
              "9  2007               2      Eixample          10   \n",
              "\n",
              "                               Nom_Barri  Població  Índex RFD Barcelona = 100  \\\n",
              "0                               el Raval     46595                       64.7   \n",
              "1                         el Barri Gòtic     27946                       86.5   \n",
              "2                         la Barceloneta     15921                       66.7   \n",
              "3  Sant Pere, Santa Caterina i la Ribera     22572                       80.2   \n",
              "4                          el Fort Pienc     31521                      107.9   \n",
              "5                     la Sagrada Família     52185                      101.8   \n",
              "6                 la Dreta de l'Eixample     42504                      137.6   \n",
              "7        l'Antiga Esquerra de l'Eixample     41413                      126.5   \n",
              "8         la Nova Esquerra de l'Eixample     58146                      116.9   \n",
              "9                            Sant Antoni     37988                      103.8   \n",
              "\n",
              "                                          sourceFile  \n",
              "0  /content/drive/MyDrive/BDM-Project/Data/openda...  \n",
              "1  /content/drive/MyDrive/BDM-Project/Data/openda...  \n",
              "2  /content/drive/MyDrive/BDM-Project/Data/openda...  \n",
              "3  /content/drive/MyDrive/BDM-Project/Data/openda...  \n",
              "4  /content/drive/MyDrive/BDM-Project/Data/openda...  \n",
              "5  /content/drive/MyDrive/BDM-Project/Data/openda...  \n",
              "6  /content/drive/MyDrive/BDM-Project/Data/openda...  \n",
              "7  /content/drive/MyDrive/BDM-Project/Data/openda...  \n",
              "8  /content/drive/MyDrive/BDM-Project/Data/openda...  \n",
              "9  /content/drive/MyDrive/BDM-Project/Data/openda...  "
            ],
            "text/html": [
              "\n",
              "  <div id=\"df-1f5d4e5b-d76a-4636-98df-ccf4a9a31bc2\">\n",
              "    <div class=\"colab-df-container\">\n",
              "      <div>\n",
              "<style scoped>\n",
              "    .dataframe tbody tr th:only-of-type {\n",
              "        vertical-align: middle;\n",
              "    }\n",
              "\n",
              "    .dataframe tbody tr th {\n",
              "        vertical-align: top;\n",
              "    }\n",
              "\n",
              "    .dataframe thead th {\n",
              "        text-align: right;\n",
              "    }\n",
              "</style>\n",
              "<table border=\"1\" class=\"dataframe\">\n",
              "  <thead>\n",
              "    <tr style=\"text-align: right;\">\n",
              "      <th></th>\n",
              "      <th>Any</th>\n",
              "      <th>Codi_Districte</th>\n",
              "      <th>Nom_Districte</th>\n",
              "      <th>Codi_Barri</th>\n",
              "      <th>Nom_Barri</th>\n",
              "      <th>Població</th>\n",
              "      <th>Índex RFD Barcelona = 100</th>\n",
              "      <th>sourceFile</th>\n",
              "    </tr>\n",
              "  </thead>\n",
              "  <tbody>\n",
              "    <tr>\n",
              "      <th>0</th>\n",
              "      <td>2007</td>\n",
              "      <td>1</td>\n",
              "      <td>Ciutat Vella</td>\n",
              "      <td>1</td>\n",
              "      <td>el Raval</td>\n",
              "      <td>46595</td>\n",
              "      <td>64.7</td>\n",
              "      <td>/content/drive/MyDrive/BDM-Project/Data/openda...</td>\n",
              "    </tr>\n",
              "    <tr>\n",
              "      <th>1</th>\n",
              "      <td>2007</td>\n",
              "      <td>1</td>\n",
              "      <td>Ciutat Vella</td>\n",
              "      <td>2</td>\n",
              "      <td>el Barri Gòtic</td>\n",
              "      <td>27946</td>\n",
              "      <td>86.5</td>\n",
              "      <td>/content/drive/MyDrive/BDM-Project/Data/openda...</td>\n",
              "    </tr>\n",
              "    <tr>\n",
              "      <th>2</th>\n",
              "      <td>2007</td>\n",
              "      <td>1</td>\n",
              "      <td>Ciutat Vella</td>\n",
              "      <td>3</td>\n",
              "      <td>la Barceloneta</td>\n",
              "      <td>15921</td>\n",
              "      <td>66.7</td>\n",
              "      <td>/content/drive/MyDrive/BDM-Project/Data/openda...</td>\n",
              "    </tr>\n",
              "    <tr>\n",
              "      <th>3</th>\n",
              "      <td>2007</td>\n",
              "      <td>1</td>\n",
              "      <td>Ciutat Vella</td>\n",
              "      <td>4</td>\n",
              "      <td>Sant Pere, Santa Caterina i la Ribera</td>\n",
              "      <td>22572</td>\n",
              "      <td>80.2</td>\n",
              "      <td>/content/drive/MyDrive/BDM-Project/Data/openda...</td>\n",
              "    </tr>\n",
              "    <tr>\n",
              "      <th>4</th>\n",
              "      <td>2007</td>\n",
              "      <td>2</td>\n",
              "      <td>Eixample</td>\n",
              "      <td>5</td>\n",
              "      <td>el Fort Pienc</td>\n",
              "      <td>31521</td>\n",
              "      <td>107.9</td>\n",
              "      <td>/content/drive/MyDrive/BDM-Project/Data/openda...</td>\n",
              "    </tr>\n",
              "    <tr>\n",
              "      <th>5</th>\n",
              "      <td>2007</td>\n",
              "      <td>2</td>\n",
              "      <td>Eixample</td>\n",
              "      <td>6</td>\n",
              "      <td>la Sagrada Família</td>\n",
              "      <td>52185</td>\n",
              "      <td>101.8</td>\n",
              "      <td>/content/drive/MyDrive/BDM-Project/Data/openda...</td>\n",
              "    </tr>\n",
              "    <tr>\n",
              "      <th>6</th>\n",
              "      <td>2007</td>\n",
              "      <td>2</td>\n",
              "      <td>Eixample</td>\n",
              "      <td>7</td>\n",
              "      <td>la Dreta de l'Eixample</td>\n",
              "      <td>42504</td>\n",
              "      <td>137.6</td>\n",
              "      <td>/content/drive/MyDrive/BDM-Project/Data/openda...</td>\n",
              "    </tr>\n",
              "    <tr>\n",
              "      <th>7</th>\n",
              "      <td>2007</td>\n",
              "      <td>2</td>\n",
              "      <td>Eixample</td>\n",
              "      <td>8</td>\n",
              "      <td>l'Antiga Esquerra de l'Eixample</td>\n",
              "      <td>41413</td>\n",
              "      <td>126.5</td>\n",
              "      <td>/content/drive/MyDrive/BDM-Project/Data/openda...</td>\n",
              "    </tr>\n",
              "    <tr>\n",
              "      <th>8</th>\n",
              "      <td>2007</td>\n",
              "      <td>2</td>\n",
              "      <td>Eixample</td>\n",
              "      <td>9</td>\n",
              "      <td>la Nova Esquerra de l'Eixample</td>\n",
              "      <td>58146</td>\n",
              "      <td>116.9</td>\n",
              "      <td>/content/drive/MyDrive/BDM-Project/Data/openda...</td>\n",
              "    </tr>\n",
              "    <tr>\n",
              "      <th>9</th>\n",
              "      <td>2007</td>\n",
              "      <td>2</td>\n",
              "      <td>Eixample</td>\n",
              "      <td>10</td>\n",
              "      <td>Sant Antoni</td>\n",
              "      <td>37988</td>\n",
              "      <td>103.8</td>\n",
              "      <td>/content/drive/MyDrive/BDM-Project/Data/openda...</td>\n",
              "    </tr>\n",
              "  </tbody>\n",
              "</table>\n",
              "</div>\n",
              "      <button class=\"colab-df-convert\" onclick=\"convertToInteractive('df-1f5d4e5b-d76a-4636-98df-ccf4a9a31bc2')\"\n",
              "              title=\"Convert this dataframe to an interactive table.\"\n",
              "              style=\"display:none;\">\n",
              "        \n",
              "  <svg xmlns=\"http://www.w3.org/2000/svg\" height=\"24px\"viewBox=\"0 0 24 24\"\n",
              "       width=\"24px\">\n",
              "    <path d=\"M0 0h24v24H0V0z\" fill=\"none\"/>\n",
              "    <path d=\"M18.56 5.44l.94 2.06.94-2.06 2.06-.94-2.06-.94-.94-2.06-.94 2.06-2.06.94zm-11 1L8.5 8.5l.94-2.06 2.06-.94-2.06-.94L8.5 2.5l-.94 2.06-2.06.94zm10 10l.94 2.06.94-2.06 2.06-.94-2.06-.94-.94-2.06-.94 2.06-2.06.94z\"/><path d=\"M17.41 7.96l-1.37-1.37c-.4-.4-.92-.59-1.43-.59-.52 0-1.04.2-1.43.59L10.3 9.45l-7.72 7.72c-.78.78-.78 2.05 0 2.83L4 21.41c.39.39.9.59 1.41.59.51 0 1.02-.2 1.41-.59l7.78-7.78 2.81-2.81c.8-.78.8-2.07 0-2.86zM5.41 20L4 18.59l7.72-7.72 1.47 1.35L5.41 20z\"/>\n",
              "  </svg>\n",
              "      </button>\n",
              "      \n",
              "  <style>\n",
              "    .colab-df-container {\n",
              "      display:flex;\n",
              "      flex-wrap:wrap;\n",
              "      gap: 12px;\n",
              "    }\n",
              "\n",
              "    .colab-df-convert {\n",
              "      background-color: #E8F0FE;\n",
              "      border: none;\n",
              "      border-radius: 50%;\n",
              "      cursor: pointer;\n",
              "      display: none;\n",
              "      fill: #1967D2;\n",
              "      height: 32px;\n",
              "      padding: 0 0 0 0;\n",
              "      width: 32px;\n",
              "    }\n",
              "\n",
              "    .colab-df-convert:hover {\n",
              "      background-color: #E2EBFA;\n",
              "      box-shadow: 0px 1px 2px rgba(60, 64, 67, 0.3), 0px 1px 3px 1px rgba(60, 64, 67, 0.15);\n",
              "      fill: #174EA6;\n",
              "    }\n",
              "\n",
              "    [theme=dark] .colab-df-convert {\n",
              "      background-color: #3B4455;\n",
              "      fill: #D2E3FC;\n",
              "    }\n",
              "\n",
              "    [theme=dark] .colab-df-convert:hover {\n",
              "      background-color: #434B5C;\n",
              "      box-shadow: 0px 1px 3px 1px rgba(0, 0, 0, 0.15);\n",
              "      filter: drop-shadow(0px 1px 2px rgba(0, 0, 0, 0.3));\n",
              "      fill: #FFFFFF;\n",
              "    }\n",
              "  </style>\n",
              "\n",
              "      <script>\n",
              "        const buttonEl =\n",
              "          document.querySelector('#df-1f5d4e5b-d76a-4636-98df-ccf4a9a31bc2 button.colab-df-convert');\n",
              "        buttonEl.style.display =\n",
              "          google.colab.kernel.accessAllowed ? 'block' : 'none';\n",
              "\n",
              "        async function convertToInteractive(key) {\n",
              "          const element = document.querySelector('#df-1f5d4e5b-d76a-4636-98df-ccf4a9a31bc2');\n",
              "          const dataTable =\n",
              "            await google.colab.kernel.invokeFunction('convertToInteractive',\n",
              "                                                     [key], {});\n",
              "          if (!dataTable) return;\n",
              "\n",
              "          const docLinkHtml = 'Like what you see? Visit the ' +\n",
              "            '<a target=\"_blank\" href=https://colab.research.google.com/notebooks/data_table.ipynb>data table notebook</a>'\n",
              "            + ' to learn more about interactive tables.';\n",
              "          element.innerHTML = '';\n",
              "          dataTable['output_type'] = 'display_data';\n",
              "          await google.colab.output.renderOutput(dataTable, element);\n",
              "          const docLink = document.createElement('div');\n",
              "          docLink.innerHTML = docLinkHtml;\n",
              "          element.appendChild(docLink);\n",
              "        }\n",
              "      </script>\n",
              "    </div>\n",
              "  </div>\n",
              "  "
            ]
          },
          "metadata": {},
          "execution_count": 23
        }
      ]
    },
    {
      "cell_type": "code",
      "source": [
        "df.compute().describe(include='all')"
      ],
      "metadata": {
        "colab": {
          "base_uri": "https://localhost:8080/",
          "height": 473
        },
        "id": "oHVDvIY6ratO",
        "outputId": "8c1908f8-5587-45a4-f700-0e474d66bd59"
      },
      "execution_count": 24,
      "outputs": [
        {
          "output_type": "execute_result",
          "data": {
            "text/plain": [
              "                Any  Codi_Districte Nom_Districte  Codi_Barri Nom_Barri  \\\n",
              "count    811.000000      811.000000           811  811.000000       811   \n",
              "unique          NaN             NaN            11         NaN        74   \n",
              "top             NaN             NaN    Nou Barris         NaN  el Raval   \n",
              "freq            NaN             NaN           143         NaN        11   \n",
              "mean    2011.993835        7.161529           NaN   37.611591       NaN   \n",
              "std        3.158951        9.583283           NaN   21.857582       NaN   \n",
              "min     2007.000000        1.000000           NaN    1.000000       NaN   \n",
              "25%     2009.000000        4.000000           NaN   19.000000       NaN   \n",
              "50%     2012.000000        7.000000           NaN   37.000000       NaN   \n",
              "75%     2015.000000        8.000000           NaN   56.000000       NaN   \n",
              "max     2017.000000       99.000000           NaN   99.000000       NaN   \n",
              "\n",
              "            Població  Índex RFD Barcelona = 100  \\\n",
              "count     811.000000                 803.000000   \n",
              "unique           NaN                        NaN   \n",
              "top              NaN                        NaN   \n",
              "freq             NaN                        NaN   \n",
              "mean    21943.408138                  92.588917   \n",
              "std     14618.144852                  40.084215   \n",
              "min         1.000000                  34.300000   \n",
              "25%     10355.500000                  67.500000   \n",
              "50%     19732.000000                  82.500000   \n",
              "75%     30288.000000                 103.800000   \n",
              "max     58559.000000                 251.700000   \n",
              "\n",
              "                                               sourceFile  \n",
              "count                                                 811  \n",
              "unique                                                 11  \n",
              "top     /content/drive/MyDrive/BDM-Project/Data/openda...  \n",
              "freq                                                   74  \n",
              "mean                                                  NaN  \n",
              "std                                                   NaN  \n",
              "min                                                   NaN  \n",
              "25%                                                   NaN  \n",
              "50%                                                   NaN  \n",
              "75%                                                   NaN  \n",
              "max                                                   NaN  "
            ],
            "text/html": [
              "\n",
              "  <div id=\"df-9f01e93d-c6d7-4bec-bb6e-bb02bc0d2f4a\">\n",
              "    <div class=\"colab-df-container\">\n",
              "      <div>\n",
              "<style scoped>\n",
              "    .dataframe tbody tr th:only-of-type {\n",
              "        vertical-align: middle;\n",
              "    }\n",
              "\n",
              "    .dataframe tbody tr th {\n",
              "        vertical-align: top;\n",
              "    }\n",
              "\n",
              "    .dataframe thead th {\n",
              "        text-align: right;\n",
              "    }\n",
              "</style>\n",
              "<table border=\"1\" class=\"dataframe\">\n",
              "  <thead>\n",
              "    <tr style=\"text-align: right;\">\n",
              "      <th></th>\n",
              "      <th>Any</th>\n",
              "      <th>Codi_Districte</th>\n",
              "      <th>Nom_Districte</th>\n",
              "      <th>Codi_Barri</th>\n",
              "      <th>Nom_Barri</th>\n",
              "      <th>Població</th>\n",
              "      <th>Índex RFD Barcelona = 100</th>\n",
              "      <th>sourceFile</th>\n",
              "    </tr>\n",
              "  </thead>\n",
              "  <tbody>\n",
              "    <tr>\n",
              "      <th>count</th>\n",
              "      <td>811.000000</td>\n",
              "      <td>811.000000</td>\n",
              "      <td>811</td>\n",
              "      <td>811.000000</td>\n",
              "      <td>811</td>\n",
              "      <td>811.000000</td>\n",
              "      <td>803.000000</td>\n",
              "      <td>811</td>\n",
              "    </tr>\n",
              "    <tr>\n",
              "      <th>unique</th>\n",
              "      <td>NaN</td>\n",
              "      <td>NaN</td>\n",
              "      <td>11</td>\n",
              "      <td>NaN</td>\n",
              "      <td>74</td>\n",
              "      <td>NaN</td>\n",
              "      <td>NaN</td>\n",
              "      <td>11</td>\n",
              "    </tr>\n",
              "    <tr>\n",
              "      <th>top</th>\n",
              "      <td>NaN</td>\n",
              "      <td>NaN</td>\n",
              "      <td>Nou Barris</td>\n",
              "      <td>NaN</td>\n",
              "      <td>el Raval</td>\n",
              "      <td>NaN</td>\n",
              "      <td>NaN</td>\n",
              "      <td>/content/drive/MyDrive/BDM-Project/Data/openda...</td>\n",
              "    </tr>\n",
              "    <tr>\n",
              "      <th>freq</th>\n",
              "      <td>NaN</td>\n",
              "      <td>NaN</td>\n",
              "      <td>143</td>\n",
              "      <td>NaN</td>\n",
              "      <td>11</td>\n",
              "      <td>NaN</td>\n",
              "      <td>NaN</td>\n",
              "      <td>74</td>\n",
              "    </tr>\n",
              "    <tr>\n",
              "      <th>mean</th>\n",
              "      <td>2011.993835</td>\n",
              "      <td>7.161529</td>\n",
              "      <td>NaN</td>\n",
              "      <td>37.611591</td>\n",
              "      <td>NaN</td>\n",
              "      <td>21943.408138</td>\n",
              "      <td>92.588917</td>\n",
              "      <td>NaN</td>\n",
              "    </tr>\n",
              "    <tr>\n",
              "      <th>std</th>\n",
              "      <td>3.158951</td>\n",
              "      <td>9.583283</td>\n",
              "      <td>NaN</td>\n",
              "      <td>21.857582</td>\n",
              "      <td>NaN</td>\n",
              "      <td>14618.144852</td>\n",
              "      <td>40.084215</td>\n",
              "      <td>NaN</td>\n",
              "    </tr>\n",
              "    <tr>\n",
              "      <th>min</th>\n",
              "      <td>2007.000000</td>\n",
              "      <td>1.000000</td>\n",
              "      <td>NaN</td>\n",
              "      <td>1.000000</td>\n",
              "      <td>NaN</td>\n",
              "      <td>1.000000</td>\n",
              "      <td>34.300000</td>\n",
              "      <td>NaN</td>\n",
              "    </tr>\n",
              "    <tr>\n",
              "      <th>25%</th>\n",
              "      <td>2009.000000</td>\n",
              "      <td>4.000000</td>\n",
              "      <td>NaN</td>\n",
              "      <td>19.000000</td>\n",
              "      <td>NaN</td>\n",
              "      <td>10355.500000</td>\n",
              "      <td>67.500000</td>\n",
              "      <td>NaN</td>\n",
              "    </tr>\n",
              "    <tr>\n",
              "      <th>50%</th>\n",
              "      <td>2012.000000</td>\n",
              "      <td>7.000000</td>\n",
              "      <td>NaN</td>\n",
              "      <td>37.000000</td>\n",
              "      <td>NaN</td>\n",
              "      <td>19732.000000</td>\n",
              "      <td>82.500000</td>\n",
              "      <td>NaN</td>\n",
              "    </tr>\n",
              "    <tr>\n",
              "      <th>75%</th>\n",
              "      <td>2015.000000</td>\n",
              "      <td>8.000000</td>\n",
              "      <td>NaN</td>\n",
              "      <td>56.000000</td>\n",
              "      <td>NaN</td>\n",
              "      <td>30288.000000</td>\n",
              "      <td>103.800000</td>\n",
              "      <td>NaN</td>\n",
              "    </tr>\n",
              "    <tr>\n",
              "      <th>max</th>\n",
              "      <td>2017.000000</td>\n",
              "      <td>99.000000</td>\n",
              "      <td>NaN</td>\n",
              "      <td>99.000000</td>\n",
              "      <td>NaN</td>\n",
              "      <td>58559.000000</td>\n",
              "      <td>251.700000</td>\n",
              "      <td>NaN</td>\n",
              "    </tr>\n",
              "  </tbody>\n",
              "</table>\n",
              "</div>\n",
              "      <button class=\"colab-df-convert\" onclick=\"convertToInteractive('df-9f01e93d-c6d7-4bec-bb6e-bb02bc0d2f4a')\"\n",
              "              title=\"Convert this dataframe to an interactive table.\"\n",
              "              style=\"display:none;\">\n",
              "        \n",
              "  <svg xmlns=\"http://www.w3.org/2000/svg\" height=\"24px\"viewBox=\"0 0 24 24\"\n",
              "       width=\"24px\">\n",
              "    <path d=\"M0 0h24v24H0V0z\" fill=\"none\"/>\n",
              "    <path d=\"M18.56 5.44l.94 2.06.94-2.06 2.06-.94-2.06-.94-.94-2.06-.94 2.06-2.06.94zm-11 1L8.5 8.5l.94-2.06 2.06-.94-2.06-.94L8.5 2.5l-.94 2.06-2.06.94zm10 10l.94 2.06.94-2.06 2.06-.94-2.06-.94-.94-2.06-.94 2.06-2.06.94z\"/><path d=\"M17.41 7.96l-1.37-1.37c-.4-.4-.92-.59-1.43-.59-.52 0-1.04.2-1.43.59L10.3 9.45l-7.72 7.72c-.78.78-.78 2.05 0 2.83L4 21.41c.39.39.9.59 1.41.59.51 0 1.02-.2 1.41-.59l7.78-7.78 2.81-2.81c.8-.78.8-2.07 0-2.86zM5.41 20L4 18.59l7.72-7.72 1.47 1.35L5.41 20z\"/>\n",
              "  </svg>\n",
              "      </button>\n",
              "      \n",
              "  <style>\n",
              "    .colab-df-container {\n",
              "      display:flex;\n",
              "      flex-wrap:wrap;\n",
              "      gap: 12px;\n",
              "    }\n",
              "\n",
              "    .colab-df-convert {\n",
              "      background-color: #E8F0FE;\n",
              "      border: none;\n",
              "      border-radius: 50%;\n",
              "      cursor: pointer;\n",
              "      display: none;\n",
              "      fill: #1967D2;\n",
              "      height: 32px;\n",
              "      padding: 0 0 0 0;\n",
              "      width: 32px;\n",
              "    }\n",
              "\n",
              "    .colab-df-convert:hover {\n",
              "      background-color: #E2EBFA;\n",
              "      box-shadow: 0px 1px 2px rgba(60, 64, 67, 0.3), 0px 1px 3px 1px rgba(60, 64, 67, 0.15);\n",
              "      fill: #174EA6;\n",
              "    }\n",
              "\n",
              "    [theme=dark] .colab-df-convert {\n",
              "      background-color: #3B4455;\n",
              "      fill: #D2E3FC;\n",
              "    }\n",
              "\n",
              "    [theme=dark] .colab-df-convert:hover {\n",
              "      background-color: #434B5C;\n",
              "      box-shadow: 0px 1px 3px 1px rgba(0, 0, 0, 0.15);\n",
              "      filter: drop-shadow(0px 1px 2px rgba(0, 0, 0, 0.3));\n",
              "      fill: #FFFFFF;\n",
              "    }\n",
              "  </style>\n",
              "\n",
              "      <script>\n",
              "        const buttonEl =\n",
              "          document.querySelector('#df-9f01e93d-c6d7-4bec-bb6e-bb02bc0d2f4a button.colab-df-convert');\n",
              "        buttonEl.style.display =\n",
              "          google.colab.kernel.accessAllowed ? 'block' : 'none';\n",
              "\n",
              "        async function convertToInteractive(key) {\n",
              "          const element = document.querySelector('#df-9f01e93d-c6d7-4bec-bb6e-bb02bc0d2f4a');\n",
              "          const dataTable =\n",
              "            await google.colab.kernel.invokeFunction('convertToInteractive',\n",
              "                                                     [key], {});\n",
              "          if (!dataTable) return;\n",
              "\n",
              "          const docLinkHtml = 'Like what you see? Visit the ' +\n",
              "            '<a target=\"_blank\" href=https://colab.research.google.com/notebooks/data_table.ipynb>data table notebook</a>'\n",
              "            + ' to learn more about interactive tables.';\n",
              "          element.innerHTML = '';\n",
              "          dataTable['output_type'] = 'display_data';\n",
              "          await google.colab.output.renderOutput(dataTable, element);\n",
              "          const docLink = document.createElement('div');\n",
              "          docLink.innerHTML = docLinkHtml;\n",
              "          element.appendChild(docLink);\n",
              "        }\n",
              "      </script>\n",
              "    </div>\n",
              "  </div>\n",
              "  "
            ]
          },
          "metadata": {},
          "execution_count": 24
        }
      ]
    },
    {
      "cell_type": "markdown",
      "source": [
        "I do not want my output file to have 11 partitions, so I will re-partition the file to have 1.\n",
        "\n",
        "Repartitioning a dask dataframe\n",
        "- https://docs.dask.org/en/latest/generated/dask.dataframe.DataFrame.repartition.html"
      ],
      "metadata": {
        "id": "L1-8lSXa_Oei"
      }
    },
    {
      "cell_type": "code",
      "source": [
        "df = df.repartition(npartitions=1)"
      ],
      "metadata": {
        "id": "J1MhrOzL-kwr"
      },
      "execution_count": 25,
      "outputs": []
    },
    {
      "cell_type": "markdown",
      "source": [
        "Saving as Parquet in Dask\n",
        "- https://docs.dask.org/en/latest/generated/dask.dataframe.to_parquet.html"
      ],
      "metadata": {
        "id": "lUrblURHhpCs"
      }
    },
    {
      "cell_type": "code",
      "source": [
        "pa_schema = pa.schema([\n",
        "    (\"Any\", pa.uint16()),\n",
        "    (\"Codi_Districte\", pa.uint8()),\n",
        "    (\"Nom_Districte\", pa.string()),\n",
        "    (\"Codi_Barri\", pa.uint8()),\n",
        "    (\"Nom_Barri\", pa.string()),\n",
        "    (\"Població\", pa.uint32()),\n",
        "    (\"Índex RFD Barcelona = 100\", pa.float64())\n",
        "])"
      ],
      "metadata": {
        "id": "IlLcYDz-6qQ6"
      },
      "execution_count": 26,
      "outputs": []
    },
    {
      "cell_type": "code",
      "source": [
        "# name_function = lambda x: f\"openBcnIncomeData-{x}.parquet\"\n",
        "# df.to_parquet using pyarrow did not work with name_function\n",
        "df.to_parquet(directory, engine='pyarrow', compression='snappy',\n",
        "              write_index=False, \n",
        "              append=False, ignore_divisions=False, \n",
        "              partition_on=None, storage_options=None, \n",
        "              write_metadata_file=True, compute=True, \n",
        "              schema=pa_schema)\n"
      ],
      "metadata": {
        "id": "Rn2EpKxh3cek"
      },
      "execution_count": 29,
      "outputs": []
    },
    {
      "cell_type": "code",
      "source": [
        "# converts Dask df to Pandas df and loads to pyarrow table\n",
        "table = pa.Table.from_pandas(df.compute(), schema=pa_schema)"
      ],
      "metadata": {
        "id": "sVEugHl1IGRd"
      },
      "execution_count": 33,
      "outputs": []
    },
    {
      "cell_type": "code",
      "source": [
        "table.schema"
      ],
      "metadata": {
        "colab": {
          "base_uri": "https://localhost:8080/"
        },
        "id": "yiRXmrMcKO3I",
        "outputId": "0dfd5fad-c143-401f-cda8-e96b0c3fb197"
      },
      "execution_count": 34,
      "outputs": [
        {
          "output_type": "execute_result",
          "data": {
            "text/plain": [
              "Any: uint16\n",
              "Codi_Districte: uint8\n",
              "Nom_Districte: string\n",
              "Codi_Barri: uint8\n",
              "Nom_Barri: string\n",
              "Població: uint32\n",
              "Índex RFD Barcelona = 100: double\n",
              "-- schema metadata --\n",
              "pandas: '{\"index_columns\": [], \"column_indexes\": [{\"name\": null, \"field_n' + 1070"
            ]
          },
          "metadata": {},
          "execution_count": 34
        }
      ]
    }
  ]
}